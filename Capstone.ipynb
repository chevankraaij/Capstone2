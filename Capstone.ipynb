{
    "cells": [
        {
            "cell_type": "markdown",
            "metadata": {},
            "source": "This notebook is for the Capstone project"
        },
        {
            "cell_type": "code",
            "execution_count": 1,
            "metadata": {},
            "outputs": [],
            "source": "import pandas as pd\nimport numpy as np"
        },
        {
            "cell_type": "code",
            "execution_count": 2,
            "metadata": {},
            "outputs": [
                {
                    "name": "stdout",
                    "output_type": "stream",
                    "text": "Hello Capstone Project Course!\n"
                }
            ],
            "source": "print(\"Hello Capstone Project Course!\")"
        },
        {
            "cell_type": "code",
            "execution_count": 3,
            "metadata": {},
            "outputs": [
                {
                    "name": "stdout",
                    "output_type": "stream",
                    "text": "Collecting pyscreenshot\n  Downloading https://files.pythonhosted.org/packages/95/e0/4741734d7d6c6f6231754fe21aae4086dacdb82cc72ee20c8780af3bb727/pyscreenshot-2.2-py2.py3-none-any.whl\nCollecting mss; python_version > \"3.4\" (from pyscreenshot)\n\u001b[?25l  Downloading https://files.pythonhosted.org/packages/98/fe/b658d2a62efcad506d680e988cce0ff7d3e09bef288d67be062753ecfd73/mss-6.0.0-py3-none-any.whl (76kB)\n\u001b[K     |\u2588\u2588\u2588\u2588\u2588\u2588\u2588\u2588\u2588\u2588\u2588\u2588\u2588\u2588\u2588\u2588\u2588\u2588\u2588\u2588\u2588\u2588\u2588\u2588\u2588\u2588\u2588\u2588\u2588\u2588\u2588\u2588| 81kB 5.6MB/s eta 0:00:011\n\u001b[?25hRequirement already satisfied: jeepney; python_version > \"3.4\" and platform_system == \"Linux\" in /opt/conda/envs/Python36/lib/python3.6/site-packages (from pyscreenshot) (0.4)\nCollecting EasyProcess (from pyscreenshot)\n  Downloading https://files.pythonhosted.org/packages/48/3c/75573613641c90c6d094059ac28adb748560d99bd27ee6f80cce398f404e/EasyProcess-0.3-py2.py3-none-any.whl\nCollecting entrypoint2 (from pyscreenshot)\n  Downloading https://files.pythonhosted.org/packages/c2/ca/00c8767568924e5c2209da99b6abdeeed9d11cbae2a713d54d041b092a09/entrypoint2-0.2.3-py2.py3-none-any.whl\nCollecting argparse (from entrypoint2->pyscreenshot)\n  Downloading https://files.pythonhosted.org/packages/f2/94/3af39d34be01a24a6e65433d19e107099374224905f1e0cc6bbe1fd22a2f/argparse-1.4.0-py2.py3-none-any.whl\nInstalling collected packages: mss, EasyProcess, argparse, entrypoint2, pyscreenshot\nSuccessfully installed EasyProcess-0.3 argparse-1.4.0 entrypoint2-0.2.3 mss-6.0.0 pyscreenshot-2.2\nThere are 56 logical cores on this system.\n"
                }
            ],
            "source": "#Import additional packages\nfrom sklearn.preprocessing import StandardScaler\nimport time\nimport seaborn as sns\nfrom tqdm.auto import tqdm, trange\n\n!pip install pyscreenshot\n\n#Set up parallel processing\nimport concurrent.futures\nimport multiprocessing\nnum_processes = multiprocessing.cpu_count()\nprint(\"There are \"+str(num_processes)+\" logical cores on this system.\")\nglobal_starttime = time.time()"
        },
        {
            "cell_type": "markdown",
            "metadata": {},
            "source": "# Data acquisition"
        },
        {
            "cell_type": "markdown",
            "metadata": {},
            "source": "This project aims to provide insight in the the factors that influence the occurance and the severity of road traffic accidents specifically in the Seattle area. For this data off road traffic accidents between 2004-2020 was used. This dataset was obtained from the Seattle Open Data portal here:http://data-seattlecitygis.opendata.arcgis.com/datasets/5b5c745e0f1f48e7a53acec63a0022ab_0\nA PDF with additional information is available as well, in this details of the attribute metadata can be obtained."
        },
        {
            "cell_type": "code",
            "execution_count": 6,
            "metadata": {},
            "outputs": [
                {
                    "name": "stdout",
                    "output_type": "stream",
                    "text": "--2020-10-13 15:02:18--  https://s3.us.cloud-object-storage.appdomain.cloud/cf-courses-data/CognitiveClass/DP0701EN/version-2/Data-Collisions.csv\nResolving s3.us.cloud-object-storage.appdomain.cloud (s3.us.cloud-object-storage.appdomain.cloud)... 67.228.254.196\nConnecting to s3.us.cloud-object-storage.appdomain.cloud (s3.us.cloud-object-storage.appdomain.cloud)|67.228.254.196|:443... connected.\nHTTP request sent, awaiting response... 200 OK\nLength: 73917638 (70M) [text/csv]\nSaving to: \u2018Collisions.csv\u2019\n\n100%[======================================>] 73,917,638  30.9MB/s   in 2.3s   \n\n2020-10-13 15:02:21 (30.9 MB/s) - \u2018Collisions.csv\u2019 saved [73917638/73917638]\n\n"
                }
            ],
            "source": "!wget -O Collisions.csv https://s3.us.cloud-object-storage.appdomain.cloud/cf-courses-data/CognitiveClass/DP0701EN/version-2/Data-Collisions.csv\n"
        },
        {
            "cell_type": "code",
            "execution_count": 7,
            "metadata": {},
            "outputs": [
                {
                    "name": "stderr",
                    "output_type": "stream",
                    "text": "/opt/conda/envs/Python36/lib/python3.6/site-packages/IPython/core/interactiveshell.py:3020: DtypeWarning: Columns (33) have mixed types. Specify dtype option on import or set low_memory=False.\n  interactivity=interactivity, compiler=compiler, result=result)\n"
                },
                {
                    "name": "stdout",
                    "output_type": "stream",
                    "text": "Shape of the original data frame: 194673 x 38\n"
                }
            ],
            "source": "#load data\n!wget -O Collisions.csv https://s3.us.cloud-object-storage.appdomain.cloud/cf-courses-data/CognitiveClass/DP0701EN/version-2/Data-Collisions.csv\n\n#Read data from the downloaded portal dataset and import to a dataframe\ndf = pd.read_csv(\"Collisions.csv\")\n\ndf_shape_orig = df.shape\nprint(\"Shape of the original data frame: \"+str(df.shape[0])+' x '+str(df.shape[1]))"
        },
        {
            "cell_type": "code",
            "execution_count": 10,
            "metadata": {},
            "outputs": [
                {
                    "data": {
                        "text/html": "<div>\n<style scoped>\n    .dataframe tbody tr th:only-of-type {\n        vertical-align: middle;\n    }\n\n    .dataframe tbody tr th {\n        vertical-align: top;\n    }\n\n    .dataframe thead th {\n        text-align: right;\n    }\n</style>\n<table border=\"1\" class=\"dataframe\">\n  <thead>\n    <tr style=\"text-align: right;\">\n      <th></th>\n      <th>SEVERITYCODE</th>\n      <th>X</th>\n      <th>Y</th>\n      <th>OBJECTID</th>\n      <th>INCKEY</th>\n      <th>COLDETKEY</th>\n      <th>REPORTNO</th>\n      <th>STATUS</th>\n      <th>ADDRTYPE</th>\n      <th>INTKEY</th>\n      <th>LOCATION</th>\n      <th>EXCEPTRSNCODE</th>\n      <th>EXCEPTRSNDESC</th>\n      <th>SEVERITYCODE.1</th>\n      <th>SEVERITYDESC</th>\n      <th>COLLISIONTYPE</th>\n      <th>PERSONCOUNT</th>\n      <th>PEDCOUNT</th>\n      <th>PEDCYLCOUNT</th>\n      <th>VEHCOUNT</th>\n      <th>INCDATE</th>\n      <th>INCDTTM</th>\n      <th>JUNCTIONTYPE</th>\n      <th>SDOT_COLCODE</th>\n      <th>SDOT_COLDESC</th>\n      <th>INATTENTIONIND</th>\n      <th>UNDERINFL</th>\n      <th>WEATHER</th>\n      <th>ROADCOND</th>\n      <th>LIGHTCOND</th>\n      <th>PEDROWNOTGRNT</th>\n      <th>SDOTCOLNUM</th>\n      <th>SPEEDING</th>\n      <th>ST_COLCODE</th>\n      <th>ST_COLDESC</th>\n      <th>SEGLANEKEY</th>\n      <th>CROSSWALKKEY</th>\n      <th>HITPARKEDCAR</th>\n    </tr>\n  </thead>\n  <tbody>\n    <tr>\n      <th>0</th>\n      <td>2</td>\n      <td>-122.323148</td>\n      <td>47.703140</td>\n      <td>1</td>\n      <td>1307</td>\n      <td>1307</td>\n      <td>3502005</td>\n      <td>Matched</td>\n      <td>Intersection</td>\n      <td>37475.0</td>\n      <td>5TH AVE NE AND NE 103RD ST</td>\n      <td></td>\n      <td>NaN</td>\n      <td>2</td>\n      <td>Injury Collision</td>\n      <td>Angles</td>\n      <td>2</td>\n      <td>0</td>\n      <td>0</td>\n      <td>2</td>\n      <td>2013/03/27 00:00:00+00</td>\n      <td>3/27/2013 2:54:00 PM</td>\n      <td>At Intersection (intersection related)</td>\n      <td>11</td>\n      <td>MOTOR VEHICLE STRUCK MOTOR VEHICLE, FRONT END ...</td>\n      <td>NaN</td>\n      <td>N</td>\n      <td>Overcast</td>\n      <td>Wet</td>\n      <td>Daylight</td>\n      <td>NaN</td>\n      <td>NaN</td>\n      <td>NaN</td>\n      <td>10</td>\n      <td>Entering at angle</td>\n      <td>0</td>\n      <td>0</td>\n      <td>N</td>\n    </tr>\n    <tr>\n      <th>1</th>\n      <td>1</td>\n      <td>-122.347294</td>\n      <td>47.647172</td>\n      <td>2</td>\n      <td>52200</td>\n      <td>52200</td>\n      <td>2607959</td>\n      <td>Matched</td>\n      <td>Block</td>\n      <td>NaN</td>\n      <td>AURORA BR BETWEEN RAYE ST AND BRIDGE WAY N</td>\n      <td>NaN</td>\n      <td>NaN</td>\n      <td>1</td>\n      <td>Property Damage Only Collision</td>\n      <td>Sideswipe</td>\n      <td>2</td>\n      <td>0</td>\n      <td>0</td>\n      <td>2</td>\n      <td>2006/12/20 00:00:00+00</td>\n      <td>12/20/2006 6:55:00 PM</td>\n      <td>Mid-Block (not related to intersection)</td>\n      <td>16</td>\n      <td>MOTOR VEHICLE STRUCK MOTOR VEHICLE, LEFT SIDE ...</td>\n      <td>NaN</td>\n      <td>0</td>\n      <td>Raining</td>\n      <td>Wet</td>\n      <td>Dark - Street Lights On</td>\n      <td>NaN</td>\n      <td>6354039.0</td>\n      <td>NaN</td>\n      <td>11</td>\n      <td>From same direction - both going straight - bo...</td>\n      <td>0</td>\n      <td>0</td>\n      <td>N</td>\n    </tr>\n    <tr>\n      <th>2</th>\n      <td>1</td>\n      <td>-122.334540</td>\n      <td>47.607871</td>\n      <td>3</td>\n      <td>26700</td>\n      <td>26700</td>\n      <td>1482393</td>\n      <td>Matched</td>\n      <td>Block</td>\n      <td>NaN</td>\n      <td>4TH AVE BETWEEN SENECA ST AND UNIVERSITY ST</td>\n      <td>NaN</td>\n      <td>NaN</td>\n      <td>1</td>\n      <td>Property Damage Only Collision</td>\n      <td>Parked Car</td>\n      <td>4</td>\n      <td>0</td>\n      <td>0</td>\n      <td>3</td>\n      <td>2004/11/18 00:00:00+00</td>\n      <td>11/18/2004 10:20:00 AM</td>\n      <td>Mid-Block (not related to intersection)</td>\n      <td>14</td>\n      <td>MOTOR VEHICLE STRUCK MOTOR VEHICLE, REAR END</td>\n      <td>NaN</td>\n      <td>0</td>\n      <td>Overcast</td>\n      <td>Dry</td>\n      <td>Daylight</td>\n      <td>NaN</td>\n      <td>4323031.0</td>\n      <td>NaN</td>\n      <td>32</td>\n      <td>One parked--one moving</td>\n      <td>0</td>\n      <td>0</td>\n      <td>N</td>\n    </tr>\n    <tr>\n      <th>3</th>\n      <td>1</td>\n      <td>-122.334803</td>\n      <td>47.604803</td>\n      <td>4</td>\n      <td>1144</td>\n      <td>1144</td>\n      <td>3503937</td>\n      <td>Matched</td>\n      <td>Block</td>\n      <td>NaN</td>\n      <td>2ND AVE BETWEEN MARION ST AND MADISON ST</td>\n      <td></td>\n      <td>NaN</td>\n      <td>1</td>\n      <td>Property Damage Only Collision</td>\n      <td>Other</td>\n      <td>3</td>\n      <td>0</td>\n      <td>0</td>\n      <td>3</td>\n      <td>2013/03/29 00:00:00+00</td>\n      <td>3/29/2013 9:26:00 AM</td>\n      <td>Mid-Block (not related to intersection)</td>\n      <td>11</td>\n      <td>MOTOR VEHICLE STRUCK MOTOR VEHICLE, FRONT END ...</td>\n      <td>NaN</td>\n      <td>N</td>\n      <td>Clear</td>\n      <td>Dry</td>\n      <td>Daylight</td>\n      <td>NaN</td>\n      <td>NaN</td>\n      <td>NaN</td>\n      <td>23</td>\n      <td>From same direction - all others</td>\n      <td>0</td>\n      <td>0</td>\n      <td>N</td>\n    </tr>\n    <tr>\n      <th>4</th>\n      <td>2</td>\n      <td>-122.306426</td>\n      <td>47.545739</td>\n      <td>5</td>\n      <td>17700</td>\n      <td>17700</td>\n      <td>1807429</td>\n      <td>Matched</td>\n      <td>Intersection</td>\n      <td>34387.0</td>\n      <td>SWIFT AVE S AND SWIFT AV OFF RP</td>\n      <td>NaN</td>\n      <td>NaN</td>\n      <td>2</td>\n      <td>Injury Collision</td>\n      <td>Angles</td>\n      <td>2</td>\n      <td>0</td>\n      <td>0</td>\n      <td>2</td>\n      <td>2004/01/28 00:00:00+00</td>\n      <td>1/28/2004 8:04:00 AM</td>\n      <td>At Intersection (intersection related)</td>\n      <td>11</td>\n      <td>MOTOR VEHICLE STRUCK MOTOR VEHICLE, FRONT END ...</td>\n      <td>NaN</td>\n      <td>0</td>\n      <td>Raining</td>\n      <td>Wet</td>\n      <td>Daylight</td>\n      <td>NaN</td>\n      <td>4028032.0</td>\n      <td>NaN</td>\n      <td>10</td>\n      <td>Entering at angle</td>\n      <td>0</td>\n      <td>0</td>\n      <td>N</td>\n    </tr>\n    <tr>\n      <th>5</th>\n      <td>1</td>\n      <td>-122.387598</td>\n      <td>47.690575</td>\n      <td>6</td>\n      <td>320840</td>\n      <td>322340</td>\n      <td>E919477</td>\n      <td>Matched</td>\n      <td>Intersection</td>\n      <td>36974.0</td>\n      <td>24TH AVE NW AND NW 85TH ST</td>\n      <td></td>\n      <td>NaN</td>\n      <td>1</td>\n      <td>Property Damage Only Collision</td>\n      <td>Angles</td>\n      <td>2</td>\n      <td>0</td>\n      <td>0</td>\n      <td>2</td>\n      <td>2019/04/20 00:00:00+00</td>\n      <td>4/20/2019 5:42:00 PM</td>\n      <td>At Intersection (intersection related)</td>\n      <td>11</td>\n      <td>MOTOR VEHICLE STRUCK MOTOR VEHICLE, FRONT END ...</td>\n      <td>NaN</td>\n      <td>N</td>\n      <td>Clear</td>\n      <td>Dry</td>\n      <td>Daylight</td>\n      <td>NaN</td>\n      <td>NaN</td>\n      <td>NaN</td>\n      <td>10</td>\n      <td>Entering at angle</td>\n      <td>0</td>\n      <td>0</td>\n      <td>N</td>\n    </tr>\n    <tr>\n      <th>6</th>\n      <td>1</td>\n      <td>-122.338485</td>\n      <td>47.618534</td>\n      <td>7</td>\n      <td>83300</td>\n      <td>83300</td>\n      <td>3282542</td>\n      <td>Matched</td>\n      <td>Intersection</td>\n      <td>29510.0</td>\n      <td>DENNY WAY AND WESTLAKE AVE</td>\n      <td>NaN</td>\n      <td>NaN</td>\n      <td>1</td>\n      <td>Property Damage Only Collision</td>\n      <td>Angles</td>\n      <td>2</td>\n      <td>0</td>\n      <td>0</td>\n      <td>2</td>\n      <td>2008/12/09 00:00:00+00</td>\n      <td>12/9/2008</td>\n      <td>At Intersection (intersection related)</td>\n      <td>11</td>\n      <td>MOTOR VEHICLE STRUCK MOTOR VEHICLE, FRONT END ...</td>\n      <td>NaN</td>\n      <td>0</td>\n      <td>Raining</td>\n      <td>Wet</td>\n      <td>Daylight</td>\n      <td>NaN</td>\n      <td>8344002.0</td>\n      <td>NaN</td>\n      <td>10</td>\n      <td>Entering at angle</td>\n      <td>0</td>\n      <td>0</td>\n      <td>N</td>\n    </tr>\n    <tr>\n      <th>7</th>\n      <td>2</td>\n      <td>-122.320780</td>\n      <td>47.614076</td>\n      <td>9</td>\n      <td>330897</td>\n      <td>332397</td>\n      <td>EA30304</td>\n      <td>Matched</td>\n      <td>Intersection</td>\n      <td>29745.0</td>\n      <td>BROADWAY AND E PIKE ST</td>\n      <td></td>\n      <td>NaN</td>\n      <td>2</td>\n      <td>Injury Collision</td>\n      <td>Cycles</td>\n      <td>3</td>\n      <td>0</td>\n      <td>1</td>\n      <td>1</td>\n      <td>2020/04/15 00:00:00+00</td>\n      <td>4/15/2020 5:47:00 PM</td>\n      <td>At Intersection (intersection related)</td>\n      <td>51</td>\n      <td>PEDALCYCLIST STRUCK MOTOR VEHICLE FRONT END AT...</td>\n      <td>NaN</td>\n      <td>N</td>\n      <td>Clear</td>\n      <td>Dry</td>\n      <td>Daylight</td>\n      <td>NaN</td>\n      <td>NaN</td>\n      <td>NaN</td>\n      <td>5</td>\n      <td>Vehicle Strikes Pedalcyclist</td>\n      <td>6855</td>\n      <td>0</td>\n      <td>N</td>\n    </tr>\n    <tr>\n      <th>8</th>\n      <td>1</td>\n      <td>-122.335930</td>\n      <td>47.611904</td>\n      <td>10</td>\n      <td>63400</td>\n      <td>63400</td>\n      <td>2071243</td>\n      <td>Matched</td>\n      <td>Block</td>\n      <td>NaN</td>\n      <td>PINE ST BETWEEN 5TH AVE AND 6TH AVE</td>\n      <td>NaN</td>\n      <td>NaN</td>\n      <td>1</td>\n      <td>Property Damage Only Collision</td>\n      <td>Parked Car</td>\n      <td>2</td>\n      <td>0</td>\n      <td>0</td>\n      <td>2</td>\n      <td>2006/06/15 00:00:00+00</td>\n      <td>6/15/2006 1:00:00 PM</td>\n      <td>Mid-Block (not related to intersection)</td>\n      <td>11</td>\n      <td>MOTOR VEHICLE STRUCK MOTOR VEHICLE, FRONT END ...</td>\n      <td>NaN</td>\n      <td>0</td>\n      <td>Clear</td>\n      <td>Dry</td>\n      <td>Daylight</td>\n      <td>NaN</td>\n      <td>6166014.0</td>\n      <td>NaN</td>\n      <td>32</td>\n      <td>One parked--one moving</td>\n      <td>0</td>\n      <td>0</td>\n      <td>N</td>\n    </tr>\n    <tr>\n      <th>9</th>\n      <td>2</td>\n      <td>-122.384700</td>\n      <td>47.528475</td>\n      <td>12</td>\n      <td>58600</td>\n      <td>58600</td>\n      <td>2072105</td>\n      <td>Matched</td>\n      <td>Intersection</td>\n      <td>34679.0</td>\n      <td>41ST AVE SW AND SW THISTLE ST</td>\n      <td>NaN</td>\n      <td>NaN</td>\n      <td>2</td>\n      <td>Injury Collision</td>\n      <td>Angles</td>\n      <td>2</td>\n      <td>0</td>\n      <td>0</td>\n      <td>2</td>\n      <td>2006/03/20 00:00:00+00</td>\n      <td>3/20/2006 3:49:00 PM</td>\n      <td>At Intersection (intersection related)</td>\n      <td>11</td>\n      <td>MOTOR VEHICLE STRUCK MOTOR VEHICLE, FRONT END ...</td>\n      <td>NaN</td>\n      <td>0</td>\n      <td>Clear</td>\n      <td>Dry</td>\n      <td>Daylight</td>\n      <td>NaN</td>\n      <td>6079001.0</td>\n      <td>NaN</td>\n      <td>10</td>\n      <td>Entering at angle</td>\n      <td>0</td>\n      <td>0</td>\n      <td>N</td>\n    </tr>\n    <tr>\n      <th>10</th>\n      <td>1</td>\n      <td>NaN</td>\n      <td>NaN</td>\n      <td>14</td>\n      <td>48900</td>\n      <td>48900</td>\n      <td>2024040</td>\n      <td>Matched</td>\n      <td>Alley</td>\n      <td>NaN</td>\n      <td>NaN</td>\n      <td>NaN</td>\n      <td>NaN</td>\n      <td>1</td>\n      <td>Property Damage Only Collision</td>\n      <td>Other</td>\n      <td>2</td>\n      <td>0</td>\n      <td>0</td>\n      <td>2</td>\n      <td>2006/05/25 00:00:00+00</td>\n      <td>5/25/2006 6:20:00 PM</td>\n      <td>Driveway Junction</td>\n      <td>11</td>\n      <td>MOTOR VEHICLE STRUCK MOTOR VEHICLE, FRONT END ...</td>\n      <td>NaN</td>\n      <td>0</td>\n      <td>Overcast</td>\n      <td>Dry</td>\n      <td>Daylight</td>\n      <td>NaN</td>\n      <td>6145029.0</td>\n      <td>NaN</td>\n      <td>22</td>\n      <td>One car leaving driveway access</td>\n      <td>0</td>\n      <td>0</td>\n      <td>N</td>\n    </tr>\n    <tr>\n      <th>11</th>\n      <td>1</td>\n      <td>-122.333831</td>\n      <td>47.547371</td>\n      <td>15</td>\n      <td>38800</td>\n      <td>38800</td>\n      <td>C654800</td>\n      <td>Matched</td>\n      <td>Intersection</td>\n      <td>33194.0</td>\n      <td>1ST AV S BR NB AND EAST MARGINAL WAY S</td>\n      <td>NaN</td>\n      <td>NaN</td>\n      <td>1</td>\n      <td>Property Damage Only Collision</td>\n      <td>Angles</td>\n      <td>2</td>\n      <td>0</td>\n      <td>0</td>\n      <td>2</td>\n      <td>2005/08/11 00:00:00+00</td>\n      <td>8/11/2005 5:30:00 PM</td>\n      <td>At Intersection (intersection related)</td>\n      <td>11</td>\n      <td>MOTOR VEHICLE STRUCK MOTOR VEHICLE, FRONT END ...</td>\n      <td>NaN</td>\n      <td>0</td>\n      <td>Clear</td>\n      <td>Dry</td>\n      <td>Daylight</td>\n      <td>NaN</td>\n      <td>5223041.0</td>\n      <td>NaN</td>\n      <td>10</td>\n      <td>Entering at angle</td>\n      <td>0</td>\n      <td>0</td>\n      <td>N</td>\n    </tr>\n    <tr>\n      <th>12</th>\n      <td>1</td>\n      <td>-122.356273</td>\n      <td>47.571375</td>\n      <td>16</td>\n      <td>2771</td>\n      <td>2771</td>\n      <td>1211870</td>\n      <td>Unmatched</td>\n      <td>Block</td>\n      <td>NaN</td>\n      <td>SW SPOKANE ST BETWEEN SW SPOKANE W BR AND TERM...</td>\n      <td></td>\n      <td>NaN</td>\n      <td>1</td>\n      <td>Property Damage Only Collision</td>\n      <td>Rear Ended</td>\n      <td>0</td>\n      <td>0</td>\n      <td>0</td>\n      <td>2</td>\n      <td>2006/05/17 00:00:00+00</td>\n      <td>5/17/2006 12:51:00 PM</td>\n      <td>Mid-Block (not related to intersection)</td>\n      <td>14</td>\n      <td>MOTOR VEHICLE STRUCK MOTOR VEHICLE, REAR END</td>\n      <td>NaN</td>\n      <td>0</td>\n      <td>Raining</td>\n      <td>Wet</td>\n      <td>Dark - Street Lights On</td>\n      <td>NaN</td>\n      <td>3137016.0</td>\n      <td>NaN</td>\n      <td>14</td>\n      <td>From same direction - both going straight - on...</td>\n      <td>0</td>\n      <td>0</td>\n      <td>N</td>\n    </tr>\n    <tr>\n      <th>13</th>\n      <td>1</td>\n      <td>-122.323966</td>\n      <td>47.606374</td>\n      <td>17</td>\n      <td>32800</td>\n      <td>32800</td>\n      <td>2128498</td>\n      <td>Matched</td>\n      <td>Block</td>\n      <td>NaN</td>\n      <td>TERRY AVE BETWEEN JAMES ST AND CHERRY ST</td>\n      <td>NaN</td>\n      <td>NaN</td>\n      <td>1</td>\n      <td>Property Damage Only Collision</td>\n      <td>Parked Car</td>\n      <td>2</td>\n      <td>0</td>\n      <td>0</td>\n      <td>2</td>\n      <td>2005/12/22 00:00:00+00</td>\n      <td>12/22/2005 5:13:00 PM</td>\n      <td>Mid-Block (not related to intersection)</td>\n      <td>13</td>\n      <td>MOTOR VEHICLE STRUCK MOTOR VEHICLE, LEFT SIDE ...</td>\n      <td>NaN</td>\n      <td>0</td>\n      <td>Raining</td>\n      <td>Wet</td>\n      <td>Dark - No Street Lights</td>\n      <td>NaN</td>\n      <td>5356027.0</td>\n      <td>NaN</td>\n      <td>32</td>\n      <td>One parked--one moving</td>\n      <td>0</td>\n      <td>0</td>\n      <td>N</td>\n    </tr>\n    <tr>\n      <th>14</th>\n      <td>2</td>\n      <td>-122.317414</td>\n      <td>47.664028</td>\n      <td>19</td>\n      <td>1212</td>\n      <td>1212</td>\n      <td>3507861</td>\n      <td>Matched</td>\n      <td>Block</td>\n      <td>NaN</td>\n      <td>ROOSEVELT WAY NE BETWEEN NE 47TH ST AND NE 50T...</td>\n      <td></td>\n      <td>NaN</td>\n      <td>2</td>\n      <td>Injury Collision</td>\n      <td>Head On</td>\n      <td>2</td>\n      <td>0</td>\n      <td>0</td>\n      <td>2</td>\n      <td>2013/03/31 00:00:00+00</td>\n      <td>3/31/2013 2:09:00 AM</td>\n      <td>Mid-Block (not related to intersection)</td>\n      <td>11</td>\n      <td>MOTOR VEHICLE STRUCK MOTOR VEHICLE, FRONT END ...</td>\n      <td>NaN</td>\n      <td>N</td>\n      <td>Clear</td>\n      <td>Dry</td>\n      <td>Dark - Street Lights On</td>\n      <td>NaN</td>\n      <td>NaN</td>\n      <td>NaN</td>\n      <td>30</td>\n      <td>From opposite direction - all others</td>\n      <td>0</td>\n      <td>0</td>\n      <td>N</td>\n    </tr>\n    <tr>\n      <th>15</th>\n      <td>1</td>\n      <td>-122.337663</td>\n      <td>47.617510</td>\n      <td>20</td>\n      <td>330878</td>\n      <td>332378</td>\n      <td>3838086</td>\n      <td>Unmatched</td>\n      <td>Block</td>\n      <td>NaN</td>\n      <td>9TH AVE BETWEEN LENORA ST AND BLANCHARD ST</td>\n      <td></td>\n      <td>NaN</td>\n      <td>1</td>\n      <td>Property Damage Only Collision</td>\n      <td>NaN</td>\n      <td>1</td>\n      <td>0</td>\n      <td>0</td>\n      <td>0</td>\n      <td>2020/04/20 00:00:00+00</td>\n      <td>4/20/2020</td>\n      <td>Driveway Junction</td>\n      <td>26</td>\n      <td>MOTOR VEHICLE STRUCK OBJECT IN ROAD</td>\n      <td>NaN</td>\n      <td>NaN</td>\n      <td>NaN</td>\n      <td>NaN</td>\n      <td>NaN</td>\n      <td>NaN</td>\n      <td>NaN</td>\n      <td>NaN</td>\n      <td></td>\n      <td>NaN</td>\n      <td>0</td>\n      <td>0</td>\n      <td>N</td>\n    </tr>\n    <tr>\n      <th>16</th>\n      <td>2</td>\n      <td>-122.344539</td>\n      <td>47.692012</td>\n      <td>21</td>\n      <td>46300</td>\n      <td>46300</td>\n      <td>2023080</td>\n      <td>Matched</td>\n      <td>Intersection</td>\n      <td>37365.0</td>\n      <td>AURORA AVE N AND N 87TH ST</td>\n      <td>NaN</td>\n      <td>NaN</td>\n      <td>2</td>\n      <td>Injury Collision</td>\n      <td>Left Turn</td>\n      <td>3</td>\n      <td>0</td>\n      <td>0</td>\n      <td>2</td>\n      <td>2005/07/01 00:00:00+00</td>\n      <td>7/1/2005</td>\n      <td>At Intersection (intersection related)</td>\n      <td>11</td>\n      <td>MOTOR VEHICLE STRUCK MOTOR VEHICLE, FRONT END ...</td>\n      <td>NaN</td>\n      <td>0</td>\n      <td>Overcast</td>\n      <td>Dry</td>\n      <td>Daylight</td>\n      <td>NaN</td>\n      <td>5182022.0</td>\n      <td>NaN</td>\n      <td>28</td>\n      <td>From opposite direction - one left turn - one ...</td>\n      <td>0</td>\n      <td>0</td>\n      <td>N</td>\n    </tr>\n    <tr>\n      <th>17</th>\n      <td>1</td>\n      <td>NaN</td>\n      <td>NaN</td>\n      <td>23</td>\n      <td>23000</td>\n      <td>23000</td>\n      <td>537838</td>\n      <td>Matched</td>\n      <td>Block</td>\n      <td>NaN</td>\n      <td>BATTERY ST TUN ON RP BETWEEN BELL ST AND ALASK...</td>\n      <td>NaN</td>\n      <td>NaN</td>\n      <td>1</td>\n      <td>Property Damage Only Collision</td>\n      <td>Rear Ended</td>\n      <td>0</td>\n      <td>0</td>\n      <td>0</td>\n      <td>2</td>\n      <td>2004/01/16 00:00:00+00</td>\n      <td>1/16/2004 8:25:00 AM</td>\n      <td>Mid-Block (but intersection related)</td>\n      <td>14</td>\n      <td>MOTOR VEHICLE STRUCK MOTOR VEHICLE, REAR END</td>\n      <td>NaN</td>\n      <td>0</td>\n      <td>Overcast</td>\n      <td>Dry</td>\n      <td>Daylight</td>\n      <td>NaN</td>\n      <td>4016025.0</td>\n      <td>NaN</td>\n      <td>14</td>\n      <td>From same direction - both going straight - on...</td>\n      <td>0</td>\n      <td>0</td>\n      <td>N</td>\n    </tr>\n    <tr>\n      <th>18</th>\n      <td>2</td>\n      <td>-122.328270</td>\n      <td>47.571420</td>\n      <td>24</td>\n      <td>330833</td>\n      <td>332333</td>\n      <td>EA29752</td>\n      <td>Matched</td>\n      <td>Block</td>\n      <td>NaN</td>\n      <td>S SPOKANE SR ST BETWEEN 4TH AVE S AND 5TH AVE S</td>\n      <td></td>\n      <td>NaN</td>\n      <td>2</td>\n      <td>Injury Collision</td>\n      <td>Rear Ended</td>\n      <td>4</td>\n      <td>0</td>\n      <td>0</td>\n      <td>3</td>\n      <td>2020/04/17 00:00:00+00</td>\n      <td>4/17/2020 2:44:00 PM</td>\n      <td>Mid-Block (not related to intersection)</td>\n      <td>14</td>\n      <td>MOTOR VEHICLE STRUCK MOTOR VEHICLE, REAR END</td>\n      <td>NaN</td>\n      <td>N</td>\n      <td>Clear</td>\n      <td>Dry</td>\n      <td>Daylight</td>\n      <td>NaN</td>\n      <td>NaN</td>\n      <td>NaN</td>\n      <td>14</td>\n      <td>From same direction - both going straight - on...</td>\n      <td>0</td>\n      <td>0</td>\n      <td>N</td>\n    </tr>\n    <tr>\n      <th>19</th>\n      <td>1</td>\n      <td>-122.383802</td>\n      <td>47.583715</td>\n      <td>25</td>\n      <td>97100</td>\n      <td>97100</td>\n      <td>2894590</td>\n      <td>Matched</td>\n      <td>Block</td>\n      <td>NaN</td>\n      <td>41ST AVE SW BETWEEN SW WALKER ST AND SW COLLEG...</td>\n      <td>NaN</td>\n      <td>NaN</td>\n      <td>1</td>\n      <td>Property Damage Only Collision</td>\n      <td>Parked Car</td>\n      <td>2</td>\n      <td>0</td>\n      <td>0</td>\n      <td>2</td>\n      <td>2009/06/01 00:00:00+00</td>\n      <td>6/1/2009</td>\n      <td>Mid-Block (not related to intersection)</td>\n      <td>11</td>\n      <td>MOTOR VEHICLE STRUCK MOTOR VEHICLE, FRONT END ...</td>\n      <td>NaN</td>\n      <td>0</td>\n      <td>Unknown</td>\n      <td>Dry</td>\n      <td>Unknown</td>\n      <td>NaN</td>\n      <td>9152035.0</td>\n      <td>NaN</td>\n      <td>32</td>\n      <td>One parked--one moving</td>\n      <td>0</td>\n      <td>0</td>\n      <td>N</td>\n    </tr>\n    <tr>\n      <th>20</th>\n      <td>2</td>\n      <td>-122.292403</td>\n      <td>47.732847</td>\n      <td>26</td>\n      <td>1347</td>\n      <td>1347</td>\n      <td>3608880</td>\n      <td>Matched</td>\n      <td>Block</td>\n      <td>NaN</td>\n      <td>LAKE CITY WAY NE BETWEEN NE 143RD ST AND NE 14...</td>\n      <td></td>\n      <td>NaN</td>\n      <td>2</td>\n      <td>Injury Collision</td>\n      <td>Rear Ended</td>\n      <td>3</td>\n      <td>0</td>\n      <td>0</td>\n      <td>2</td>\n      <td>2013/03/27 00:00:00+00</td>\n      <td>3/27/2013 8:45:00 PM</td>\n      <td>Mid-Block (not related to intersection)</td>\n      <td>14</td>\n      <td>MOTOR VEHICLE STRUCK MOTOR VEHICLE, REAR END</td>\n      <td>NaN</td>\n      <td>N</td>\n      <td>Clear</td>\n      <td>Dry</td>\n      <td>Dark - Street Lights On</td>\n      <td>NaN</td>\n      <td>NaN</td>\n      <td>NaN</td>\n      <td>14</td>\n      <td>From same direction - both going straight - on...</td>\n      <td>0</td>\n      <td>0</td>\n      <td>N</td>\n    </tr>\n    <tr>\n      <th>21</th>\n      <td>2</td>\n      <td>-122.313786</td>\n      <td>47.708535</td>\n      <td>28</td>\n      <td>1323</td>\n      <td>1323</td>\n      <td>3502831</td>\n      <td>Matched</td>\n      <td>Intersection</td>\n      <td>36505.0</td>\n      <td>14TH AVE NE AND NE NORTHGATE WAY</td>\n      <td></td>\n      <td>NaN</td>\n      <td>2</td>\n      <td>Injury Collision</td>\n      <td>Angles</td>\n      <td>5</td>\n      <td>0</td>\n      <td>0</td>\n      <td>3</td>\n      <td>2013/03/28 00:00:00+00</td>\n      <td>3/28/2013 4:22:00 PM</td>\n      <td>At Intersection (intersection related)</td>\n      <td>11</td>\n      <td>MOTOR VEHICLE STRUCK MOTOR VEHICLE, FRONT END ...</td>\n      <td>NaN</td>\n      <td>N</td>\n      <td>Clear</td>\n      <td>Dry</td>\n      <td>Daylight</td>\n      <td>NaN</td>\n      <td>NaN</td>\n      <td>NaN</td>\n      <td>10</td>\n      <td>Entering at angle</td>\n      <td>0</td>\n      <td>0</td>\n      <td>N</td>\n    </tr>\n    <tr>\n      <th>22</th>\n      <td>1</td>\n      <td>-122.318169</td>\n      <td>47.615837</td>\n      <td>29</td>\n      <td>80000</td>\n      <td>80000</td>\n      <td>2882620</td>\n      <td>Matched</td>\n      <td>Block</td>\n      <td>NaN</td>\n      <td>11TH AVE BETWEEN E PINE ST AND E OLIVE ST</td>\n      <td>NaN</td>\n      <td>NaN</td>\n      <td>1</td>\n      <td>Property Damage Only Collision</td>\n      <td>Parked Car</td>\n      <td>2</td>\n      <td>0</td>\n      <td>0</td>\n      <td>2</td>\n      <td>2008/07/18 00:00:00+00</td>\n      <td>7/18/2008 10:02:00 PM</td>\n      <td>Mid-Block (not related to intersection)</td>\n      <td>11</td>\n      <td>MOTOR VEHICLE STRUCK MOTOR VEHICLE, FRONT END ...</td>\n      <td>Y</td>\n      <td>0</td>\n      <td>Clear</td>\n      <td>Dry</td>\n      <td>Dark - Street Lights On</td>\n      <td>NaN</td>\n      <td>8200013.0</td>\n      <td>NaN</td>\n      <td>32</td>\n      <td>One parked--one moving</td>\n      <td>0</td>\n      <td>0</td>\n      <td>N</td>\n    </tr>\n    <tr>\n      <th>23</th>\n      <td>1</td>\n      <td>-122.337486</td>\n      <td>47.589746</td>\n      <td>31</td>\n      <td>28700</td>\n      <td>28700</td>\n      <td>1213894</td>\n      <td>Matched</td>\n      <td>Block</td>\n      <td>NaN</td>\n      <td>ALASKAN WY VI SB BETWEEN ALASKAN WY VI SB EFR ...</td>\n      <td>NaN</td>\n      <td>NaN</td>\n      <td>1</td>\n      <td>Property Damage Only Collision</td>\n      <td>Other</td>\n      <td>1</td>\n      <td>0</td>\n      <td>0</td>\n      <td>1</td>\n      <td>2004/09/12 00:00:00+00</td>\n      <td>9/12/2004 6:20:00 AM</td>\n      <td>Mid-Block (not related to intersection)</td>\n      <td>28</td>\n      <td>MOTOR VEHICLE RAN OFF ROAD - HIT FIXED OBJECT</td>\n      <td>NaN</td>\n      <td>0</td>\n      <td>Unknown</td>\n      <td>Unknown</td>\n      <td>Unknown</td>\n      <td>NaN</td>\n      <td>4256026.0</td>\n      <td>NaN</td>\n      <td>51</td>\n      <td>Other object</td>\n      <td>0</td>\n      <td>0</td>\n      <td>N</td>\n    </tr>\n    <tr>\n      <th>24</th>\n      <td>2</td>\n      <td>-122.279658</td>\n      <td>47.553405</td>\n      <td>33</td>\n      <td>1268</td>\n      <td>1268</td>\n      <td>3672152</td>\n      <td>Matched</td>\n      <td>Intersection</td>\n      <td>33499.0</td>\n      <td>RAINIER AVE S AND S BRANDON ST</td>\n      <td></td>\n      <td>NaN</td>\n      <td>2</td>\n      <td>Injury Collision</td>\n      <td>Rear Ended</td>\n      <td>3</td>\n      <td>0</td>\n      <td>0</td>\n      <td>2</td>\n      <td>2013/03/31 00:00:00+00</td>\n      <td>3/31/2013 10:05:00 AM</td>\n      <td>At Intersection (intersection related)</td>\n      <td>14</td>\n      <td>MOTOR VEHICLE STRUCK MOTOR VEHICLE, REAR END</td>\n      <td>NaN</td>\n      <td>N</td>\n      <td>Clear</td>\n      <td>Dry</td>\n      <td>Daylight</td>\n      <td>NaN</td>\n      <td>NaN</td>\n      <td>Y</td>\n      <td>14</td>\n      <td>From same direction - both going straight - on...</td>\n      <td>0</td>\n      <td>0</td>\n      <td>N</td>\n    </tr>\n  </tbody>\n</table>\n</div>",
                        "text/plain": "    SEVERITYCODE           X          Y  OBJECTID  INCKEY  COLDETKEY REPORTNO  \\\n0              2 -122.323148  47.703140         1    1307       1307  3502005   \n1              1 -122.347294  47.647172         2   52200      52200  2607959   \n2              1 -122.334540  47.607871         3   26700      26700  1482393   \n3              1 -122.334803  47.604803         4    1144       1144  3503937   \n4              2 -122.306426  47.545739         5   17700      17700  1807429   \n5              1 -122.387598  47.690575         6  320840     322340  E919477   \n6              1 -122.338485  47.618534         7   83300      83300  3282542   \n7              2 -122.320780  47.614076         9  330897     332397  EA30304   \n8              1 -122.335930  47.611904        10   63400      63400  2071243   \n9              2 -122.384700  47.528475        12   58600      58600  2072105   \n10             1         NaN        NaN        14   48900      48900  2024040   \n11             1 -122.333831  47.547371        15   38800      38800  C654800   \n12             1 -122.356273  47.571375        16    2771       2771  1211870   \n13             1 -122.323966  47.606374        17   32800      32800  2128498   \n14             2 -122.317414  47.664028        19    1212       1212  3507861   \n15             1 -122.337663  47.617510        20  330878     332378  3838086   \n16             2 -122.344539  47.692012        21   46300      46300  2023080   \n17             1         NaN        NaN        23   23000      23000   537838   \n18             2 -122.328270  47.571420        24  330833     332333  EA29752   \n19             1 -122.383802  47.583715        25   97100      97100  2894590   \n20             2 -122.292403  47.732847        26    1347       1347  3608880   \n21             2 -122.313786  47.708535        28    1323       1323  3502831   \n22             1 -122.318169  47.615837        29   80000      80000  2882620   \n23             1 -122.337486  47.589746        31   28700      28700  1213894   \n24             2 -122.279658  47.553405        33    1268       1268  3672152   \n\n       STATUS      ADDRTYPE   INTKEY  \\\n0     Matched  Intersection  37475.0   \n1     Matched         Block      NaN   \n2     Matched         Block      NaN   \n3     Matched         Block      NaN   \n4     Matched  Intersection  34387.0   \n5     Matched  Intersection  36974.0   \n6     Matched  Intersection  29510.0   \n7     Matched  Intersection  29745.0   \n8     Matched         Block      NaN   \n9     Matched  Intersection  34679.0   \n10    Matched         Alley      NaN   \n11    Matched  Intersection  33194.0   \n12  Unmatched         Block      NaN   \n13    Matched         Block      NaN   \n14    Matched         Block      NaN   \n15  Unmatched         Block      NaN   \n16    Matched  Intersection  37365.0   \n17    Matched         Block      NaN   \n18    Matched         Block      NaN   \n19    Matched         Block      NaN   \n20    Matched         Block      NaN   \n21    Matched  Intersection  36505.0   \n22    Matched         Block      NaN   \n23    Matched         Block      NaN   \n24    Matched  Intersection  33499.0   \n\n                                             LOCATION EXCEPTRSNCODE  \\\n0                          5TH AVE NE AND NE 103RD ST                 \n1          AURORA BR BETWEEN RAYE ST AND BRIDGE WAY N           NaN   \n2         4TH AVE BETWEEN SENECA ST AND UNIVERSITY ST           NaN   \n3            2ND AVE BETWEEN MARION ST AND MADISON ST                 \n4                     SWIFT AVE S AND SWIFT AV OFF RP           NaN   \n5                          24TH AVE NW AND NW 85TH ST                 \n6                          DENNY WAY AND WESTLAKE AVE           NaN   \n7                              BROADWAY AND E PIKE ST                 \n8                 PINE ST BETWEEN 5TH AVE AND 6TH AVE           NaN   \n9                       41ST AVE SW AND SW THISTLE ST           NaN   \n10                                                NaN           NaN   \n11             1ST AV S BR NB AND EAST MARGINAL WAY S           NaN   \n12  SW SPOKANE ST BETWEEN SW SPOKANE W BR AND TERM...                 \n13           TERRY AVE BETWEEN JAMES ST AND CHERRY ST           NaN   \n14  ROOSEVELT WAY NE BETWEEN NE 47TH ST AND NE 50T...                 \n15         9TH AVE BETWEEN LENORA ST AND BLANCHARD ST                 \n16                         AURORA AVE N AND N 87TH ST           NaN   \n17  BATTERY ST TUN ON RP BETWEEN BELL ST AND ALASK...           NaN   \n18    S SPOKANE SR ST BETWEEN 4TH AVE S AND 5TH AVE S                 \n19  41ST AVE SW BETWEEN SW WALKER ST AND SW COLLEG...           NaN   \n20  LAKE CITY WAY NE BETWEEN NE 143RD ST AND NE 14...                 \n21                   14TH AVE NE AND NE NORTHGATE WAY                 \n22          11TH AVE BETWEEN E PINE ST AND E OLIVE ST           NaN   \n23  ALASKAN WY VI SB BETWEEN ALASKAN WY VI SB EFR ...           NaN   \n24                     RAINIER AVE S AND S BRANDON ST                 \n\n   EXCEPTRSNDESC  SEVERITYCODE.1                    SEVERITYDESC  \\\n0            NaN               2                Injury Collision   \n1            NaN               1  Property Damage Only Collision   \n2            NaN               1  Property Damage Only Collision   \n3            NaN               1  Property Damage Only Collision   \n4            NaN               2                Injury Collision   \n5            NaN               1  Property Damage Only Collision   \n6            NaN               1  Property Damage Only Collision   \n7            NaN               2                Injury Collision   \n8            NaN               1  Property Damage Only Collision   \n9            NaN               2                Injury Collision   \n10           NaN               1  Property Damage Only Collision   \n11           NaN               1  Property Damage Only Collision   \n12           NaN               1  Property Damage Only Collision   \n13           NaN               1  Property Damage Only Collision   \n14           NaN               2                Injury Collision   \n15           NaN               1  Property Damage Only Collision   \n16           NaN               2                Injury Collision   \n17           NaN               1  Property Damage Only Collision   \n18           NaN               2                Injury Collision   \n19           NaN               1  Property Damage Only Collision   \n20           NaN               2                Injury Collision   \n21           NaN               2                Injury Collision   \n22           NaN               1  Property Damage Only Collision   \n23           NaN               1  Property Damage Only Collision   \n24           NaN               2                Injury Collision   \n\n   COLLISIONTYPE  PERSONCOUNT  PEDCOUNT  PEDCYLCOUNT  VEHCOUNT  \\\n0         Angles            2         0            0         2   \n1      Sideswipe            2         0            0         2   \n2     Parked Car            4         0            0         3   \n3          Other            3         0            0         3   \n4         Angles            2         0            0         2   \n5         Angles            2         0            0         2   \n6         Angles            2         0            0         2   \n7         Cycles            3         0            1         1   \n8     Parked Car            2         0            0         2   \n9         Angles            2         0            0         2   \n10         Other            2         0            0         2   \n11        Angles            2         0            0         2   \n12    Rear Ended            0         0            0         2   \n13    Parked Car            2         0            0         2   \n14       Head On            2         0            0         2   \n15           NaN            1         0            0         0   \n16     Left Turn            3         0            0         2   \n17    Rear Ended            0         0            0         2   \n18    Rear Ended            4         0            0         3   \n19    Parked Car            2         0            0         2   \n20    Rear Ended            3         0            0         2   \n21        Angles            5         0            0         3   \n22    Parked Car            2         0            0         2   \n23         Other            1         0            0         1   \n24    Rear Ended            3         0            0         2   \n\n                   INCDATE                 INCDTTM  \\\n0   2013/03/27 00:00:00+00    3/27/2013 2:54:00 PM   \n1   2006/12/20 00:00:00+00   12/20/2006 6:55:00 PM   \n2   2004/11/18 00:00:00+00  11/18/2004 10:20:00 AM   \n3   2013/03/29 00:00:00+00    3/29/2013 9:26:00 AM   \n4   2004/01/28 00:00:00+00    1/28/2004 8:04:00 AM   \n5   2019/04/20 00:00:00+00    4/20/2019 5:42:00 PM   \n6   2008/12/09 00:00:00+00               12/9/2008   \n7   2020/04/15 00:00:00+00    4/15/2020 5:47:00 PM   \n8   2006/06/15 00:00:00+00    6/15/2006 1:00:00 PM   \n9   2006/03/20 00:00:00+00    3/20/2006 3:49:00 PM   \n10  2006/05/25 00:00:00+00    5/25/2006 6:20:00 PM   \n11  2005/08/11 00:00:00+00    8/11/2005 5:30:00 PM   \n12  2006/05/17 00:00:00+00   5/17/2006 12:51:00 PM   \n13  2005/12/22 00:00:00+00   12/22/2005 5:13:00 PM   \n14  2013/03/31 00:00:00+00    3/31/2013 2:09:00 AM   \n15  2020/04/20 00:00:00+00               4/20/2020   \n16  2005/07/01 00:00:00+00                7/1/2005   \n17  2004/01/16 00:00:00+00    1/16/2004 8:25:00 AM   \n18  2020/04/17 00:00:00+00    4/17/2020 2:44:00 PM   \n19  2009/06/01 00:00:00+00                6/1/2009   \n20  2013/03/27 00:00:00+00    3/27/2013 8:45:00 PM   \n21  2013/03/28 00:00:00+00    3/28/2013 4:22:00 PM   \n22  2008/07/18 00:00:00+00   7/18/2008 10:02:00 PM   \n23  2004/09/12 00:00:00+00    9/12/2004 6:20:00 AM   \n24  2013/03/31 00:00:00+00   3/31/2013 10:05:00 AM   \n\n                               JUNCTIONTYPE  SDOT_COLCODE  \\\n0    At Intersection (intersection related)            11   \n1   Mid-Block (not related to intersection)            16   \n2   Mid-Block (not related to intersection)            14   \n3   Mid-Block (not related to intersection)            11   \n4    At Intersection (intersection related)            11   \n5    At Intersection (intersection related)            11   \n6    At Intersection (intersection related)            11   \n7    At Intersection (intersection related)            51   \n8   Mid-Block (not related to intersection)            11   \n9    At Intersection (intersection related)            11   \n10                        Driveway Junction            11   \n11   At Intersection (intersection related)            11   \n12  Mid-Block (not related to intersection)            14   \n13  Mid-Block (not related to intersection)            13   \n14  Mid-Block (not related to intersection)            11   \n15                        Driveway Junction            26   \n16   At Intersection (intersection related)            11   \n17     Mid-Block (but intersection related)            14   \n18  Mid-Block (not related to intersection)            14   \n19  Mid-Block (not related to intersection)            11   \n20  Mid-Block (not related to intersection)            14   \n21   At Intersection (intersection related)            11   \n22  Mid-Block (not related to intersection)            11   \n23  Mid-Block (not related to intersection)            28   \n24   At Intersection (intersection related)            14   \n\n                                         SDOT_COLDESC INATTENTIONIND  \\\n0   MOTOR VEHICLE STRUCK MOTOR VEHICLE, FRONT END ...            NaN   \n1   MOTOR VEHICLE STRUCK MOTOR VEHICLE, LEFT SIDE ...            NaN   \n2        MOTOR VEHICLE STRUCK MOTOR VEHICLE, REAR END            NaN   \n3   MOTOR VEHICLE STRUCK MOTOR VEHICLE, FRONT END ...            NaN   \n4   MOTOR VEHICLE STRUCK MOTOR VEHICLE, FRONT END ...            NaN   \n5   MOTOR VEHICLE STRUCK MOTOR VEHICLE, FRONT END ...            NaN   \n6   MOTOR VEHICLE STRUCK MOTOR VEHICLE, FRONT END ...            NaN   \n7   PEDALCYCLIST STRUCK MOTOR VEHICLE FRONT END AT...            NaN   \n8   MOTOR VEHICLE STRUCK MOTOR VEHICLE, FRONT END ...            NaN   \n9   MOTOR VEHICLE STRUCK MOTOR VEHICLE, FRONT END ...            NaN   \n10  MOTOR VEHICLE STRUCK MOTOR VEHICLE, FRONT END ...            NaN   \n11  MOTOR VEHICLE STRUCK MOTOR VEHICLE, FRONT END ...            NaN   \n12       MOTOR VEHICLE STRUCK MOTOR VEHICLE, REAR END            NaN   \n13  MOTOR VEHICLE STRUCK MOTOR VEHICLE, LEFT SIDE ...            NaN   \n14  MOTOR VEHICLE STRUCK MOTOR VEHICLE, FRONT END ...            NaN   \n15                MOTOR VEHICLE STRUCK OBJECT IN ROAD            NaN   \n16  MOTOR VEHICLE STRUCK MOTOR VEHICLE, FRONT END ...            NaN   \n17       MOTOR VEHICLE STRUCK MOTOR VEHICLE, REAR END            NaN   \n18       MOTOR VEHICLE STRUCK MOTOR VEHICLE, REAR END            NaN   \n19  MOTOR VEHICLE STRUCK MOTOR VEHICLE, FRONT END ...            NaN   \n20       MOTOR VEHICLE STRUCK MOTOR VEHICLE, REAR END            NaN   \n21  MOTOR VEHICLE STRUCK MOTOR VEHICLE, FRONT END ...            NaN   \n22  MOTOR VEHICLE STRUCK MOTOR VEHICLE, FRONT END ...              Y   \n23      MOTOR VEHICLE RAN OFF ROAD - HIT FIXED OBJECT            NaN   \n24       MOTOR VEHICLE STRUCK MOTOR VEHICLE, REAR END            NaN   \n\n   UNDERINFL   WEATHER ROADCOND                LIGHTCOND PEDROWNOTGRNT  \\\n0          N  Overcast      Wet                 Daylight           NaN   \n1          0   Raining      Wet  Dark - Street Lights On           NaN   \n2          0  Overcast      Dry                 Daylight           NaN   \n3          N     Clear      Dry                 Daylight           NaN   \n4          0   Raining      Wet                 Daylight           NaN   \n5          N     Clear      Dry                 Daylight           NaN   \n6          0   Raining      Wet                 Daylight           NaN   \n7          N     Clear      Dry                 Daylight           NaN   \n8          0     Clear      Dry                 Daylight           NaN   \n9          0     Clear      Dry                 Daylight           NaN   \n10         0  Overcast      Dry                 Daylight           NaN   \n11         0     Clear      Dry                 Daylight           NaN   \n12         0   Raining      Wet  Dark - Street Lights On           NaN   \n13         0   Raining      Wet  Dark - No Street Lights           NaN   \n14         N     Clear      Dry  Dark - Street Lights On           NaN   \n15       NaN       NaN      NaN                      NaN           NaN   \n16         0  Overcast      Dry                 Daylight           NaN   \n17         0  Overcast      Dry                 Daylight           NaN   \n18         N     Clear      Dry                 Daylight           NaN   \n19         0   Unknown      Dry                  Unknown           NaN   \n20         N     Clear      Dry  Dark - Street Lights On           NaN   \n21         N     Clear      Dry                 Daylight           NaN   \n22         0     Clear      Dry  Dark - Street Lights On           NaN   \n23         0   Unknown  Unknown                  Unknown           NaN   \n24         N     Clear      Dry                 Daylight           NaN   \n\n    SDOTCOLNUM SPEEDING ST_COLCODE  \\\n0          NaN      NaN         10   \n1    6354039.0      NaN         11   \n2    4323031.0      NaN         32   \n3          NaN      NaN         23   \n4    4028032.0      NaN         10   \n5          NaN      NaN         10   \n6    8344002.0      NaN         10   \n7          NaN      NaN          5   \n8    6166014.0      NaN         32   \n9    6079001.0      NaN         10   \n10   6145029.0      NaN         22   \n11   5223041.0      NaN         10   \n12   3137016.0      NaN         14   \n13   5356027.0      NaN         32   \n14         NaN      NaN         30   \n15         NaN      NaN              \n16   5182022.0      NaN         28   \n17   4016025.0      NaN         14   \n18         NaN      NaN         14   \n19   9152035.0      NaN         32   \n20         NaN      NaN         14   \n21         NaN      NaN         10   \n22   8200013.0      NaN         32   \n23   4256026.0      NaN         51   \n24         NaN        Y         14   \n\n                                           ST_COLDESC  SEGLANEKEY  \\\n0                                   Entering at angle           0   \n1   From same direction - both going straight - bo...           0   \n2                              One parked--one moving           0   \n3                    From same direction - all others           0   \n4                                   Entering at angle           0   \n5                                   Entering at angle           0   \n6                                   Entering at angle           0   \n7                        Vehicle Strikes Pedalcyclist        6855   \n8                              One parked--one moving           0   \n9                                   Entering at angle           0   \n10                    One car leaving driveway access           0   \n11                                  Entering at angle           0   \n12  From same direction - both going straight - on...           0   \n13                             One parked--one moving           0   \n14               From opposite direction - all others           0   \n15                                                NaN           0   \n16  From opposite direction - one left turn - one ...           0   \n17  From same direction - both going straight - on...           0   \n18  From same direction - both going straight - on...           0   \n19                             One parked--one moving           0   \n20  From same direction - both going straight - on...           0   \n21                                  Entering at angle           0   \n22                             One parked--one moving           0   \n23                                       Other object           0   \n24  From same direction - both going straight - on...           0   \n\n    CROSSWALKKEY HITPARKEDCAR  \n0              0            N  \n1              0            N  \n2              0            N  \n3              0            N  \n4              0            N  \n5              0            N  \n6              0            N  \n7              0            N  \n8              0            N  \n9              0            N  \n10             0            N  \n11             0            N  \n12             0            N  \n13             0            N  \n14             0            N  \n15             0            N  \n16             0            N  \n17             0            N  \n18             0            N  \n19             0            N  \n20             0            N  \n21             0            N  \n22             0            N  \n23             0            N  \n24             0            N  "
                    },
                    "execution_count": 10,
                    "metadata": {},
                    "output_type": "execute_result"
                }
            ],
            "source": "#Analyse the intial load\npd.set_option('display.max_columns', None)\npd.set_option('display.max_rows', None)\ndf.head(25)"
        },
        {
            "cell_type": "code",
            "execution_count": 11,
            "metadata": {},
            "outputs": [
                {
                    "data": {
                        "text/plain": "SEVERITYCODE        int64\nX                 float64\nY                 float64\nOBJECTID            int64\nINCKEY              int64\nCOLDETKEY           int64\nREPORTNO           object\nSTATUS             object\nADDRTYPE           object\nINTKEY            float64\nLOCATION           object\nEXCEPTRSNCODE      object\nEXCEPTRSNDESC      object\nSEVERITYCODE.1      int64\nSEVERITYDESC       object\nCOLLISIONTYPE      object\nPERSONCOUNT         int64\nPEDCOUNT            int64\nPEDCYLCOUNT         int64\nVEHCOUNT            int64\nINCDATE            object\nINCDTTM            object\nJUNCTIONTYPE       object\nSDOT_COLCODE        int64\nSDOT_COLDESC       object\nINATTENTIONIND     object\nUNDERINFL          object\nWEATHER            object\nROADCOND           object\nLIGHTCOND          object\nPEDROWNOTGRNT      object\nSDOTCOLNUM        float64\nSPEEDING           object\nST_COLCODE         object\nST_COLDESC         object\nSEGLANEKEY          int64\nCROSSWALKKEY        int64\nHITPARKEDCAR       object\ndtype: object"
                    },
                    "execution_count": 11,
                    "metadata": {},
                    "output_type": "execute_result"
                }
            ],
            "source": "#Verify the data types\ndf.dtypes"
        },
        {
            "cell_type": "code",
            "execution_count": 12,
            "metadata": {},
            "outputs": [
                {
                    "name": "stdout",
                    "output_type": "stream",
                    "text": "SEVERITYCODE                                                      2\nX                                                          -122.323\nY                                                           47.7031\nOBJECTID                                                          1\nINCKEY                                                         1307\nCOLDETKEY                                                      1307\nREPORTNO                                                    3502005\nSTATUS                                                      Matched\nADDRTYPE                                               Intersection\nINTKEY                                                        37475\nLOCATION                                 5TH AVE NE AND NE 103RD ST\nEXCEPTRSNCODE                                                      \nEXCEPTRSNDESC                                                   NaN\nSEVERITYCODE.1                                                    2\nSEVERITYDESC                                       Injury Collision\nCOLLISIONTYPE                                                Angles\nPERSONCOUNT                                                       2\nPEDCOUNT                                                          0\nPEDCYLCOUNT                                                       0\nVEHCOUNT                                                          2\nINCDATE                                      2013/03/27 00:00:00+00\nINCDTTM                                        3/27/2013 2:54:00 PM\nJUNCTIONTYPE                 At Intersection (intersection related)\nSDOT_COLCODE                                                     11\nSDOT_COLDESC      MOTOR VEHICLE STRUCK MOTOR VEHICLE, FRONT END ...\nINATTENTIONIND                                                  NaN\nUNDERINFL                                                         N\nWEATHER                                                    Overcast\nROADCOND                                                        Wet\nLIGHTCOND                                                  Daylight\nPEDROWNOTGRNT                                                   NaN\nSDOTCOLNUM                                                      NaN\nSPEEDING                                                        NaN\nST_COLCODE                                                       10\nST_COLDESC                                        Entering at angle\nSEGLANEKEY                                                        0\nCROSSWALKKEY                                                      0\nHITPARKEDCAR                                                      N\nName: 0, dtype: object\n"
                }
            ],
            "source": "print(df.loc[0,:])"
        },
        {
            "cell_type": "code",
            "execution_count": 13,
            "metadata": {},
            "outputs": [
                {
                    "name": "stdout",
                    "output_type": "stream",
                    "text": "SEVERITYCODE           0\nX                   5334\nY                   5334\nOBJECTID               0\nINCKEY                 0\nCOLDETKEY              0\nREPORTNO               0\nSTATUS                 0\nADDRTYPE            1926\nINTKEY            129603\nLOCATION            2677\nEXCEPTRSNCODE     109862\nEXCEPTRSNDESC     189035\nSEVERITYCODE.1         0\nSEVERITYDESC           0\nCOLLISIONTYPE       4904\nPERSONCOUNT            0\nPEDCOUNT               0\nPEDCYLCOUNT            0\nVEHCOUNT               0\nINCDATE                0\nINCDTTM                0\nJUNCTIONTYPE        6329\nSDOT_COLCODE           0\nSDOT_COLDESC           0\nINATTENTIONIND    164868\nUNDERINFL           4884\nWEATHER             5081\nROADCOND            5012\nLIGHTCOND           5170\nPEDROWNOTGRNT     190006\nSDOTCOLNUM         79737\nSPEEDING          185340\nST_COLCODE            18\nST_COLDESC          4904\nSEGLANEKEY             0\nCROSSWALKKEY           0\nHITPARKEDCAR           0\ndtype: int64\n"
                }
            ],
            "source": "#Check where there are NaNs in the dataframe\nprint(df.isnull().sum(axis=0))"
        },
        {
            "cell_type": "markdown",
            "metadata": {},
            "source": "# Data Cleaning"
        },
        {
            "cell_type": "markdown",
            "metadata": {},
            "source": "The data obtained from the Seattle Open Data website are not, in their original form, usable for the purposes of model building. There are a number of issues which must be addressed:\n\nRows which are missing information about the target variable: the objective of this model is to predict the car accident severity code ( SEVERITYCODE ) from the given features. However as we can see from the previous cell, there are 21,602 accidents in the dataframe with SEVERITYCODE =0, corresponding to an accident with \"Unknown\" severity. Clearly we cannot use accidents whose severity is unknown to train/test a model designed to predict accident severity, so these rows will be dropped.\n\nColumns containing useless/redundant data. These columns can be removed from the dataframe and include:\n\nOBJECTID - this is just an database key, but Pandas creates its own key on import.\nCOLDETKEY - this is just a duplicate of INCKEY, and probably arises due to a cross-matching of tables on the Seattle Open Data website. We will keep INCKEY as a unique identifier for each accident, but do not need to keep the duplicate column\nREPORTNO - this is just another identifier for the accident, this time tying the record to the individual piece of paperwork that was filed to report the accident. This is not useful for building our model.\nSTATUS - the meaning of this column is unclear (and is not explained in the Attribute Information metadata). The values are either \"Matched\" or \"Unmatched\".\nEXCEPTRSNCODE, EXCEPTRSNDESC - these columns are listed in the Attribute Information metadata, but their meanings are not explained. EXCEPTRSNCODE is blank/NaN in ~99% of the data, with 2,480 accidents having a non-blank entry, all of which are the same (\"NEI\"). According to EXCEPTRSNDESC this means \"Not Enough Information\".\nINCDATE - this column is just a duplicate of the more easily parsable INCDTTM\nSDOTCOLNUM - this is another unique identifier for each accident, however as we are planning to keep INCKEY, keeping this second unique identifier is redundant.\nRows which are missing information about some of the features which we expect will be key to building the model: as we can see from df.head, a number of accidents (accounting for ~15% of the dataset) have \"Unknown\" values for attributes like WEATHER , ROADCOND and LIGHTCOND , or have these fields blank/NaN, which in practice means the same thing. As these are expected to be among the features which influence the likelihood and severity of accidents, we have to consider discarding these rows before training the model.\n\nPresence of features with categorical values: In order to construct a model using Machine Learning techniques, we must take columns which contain categorical data and re-cast them in numeric form. Different techniques will be used to accomplish this, depending on the nature of the data in these columns.\n\nAwkwardly, the target variable SEVERITYCODE is itself a categorical variable, having the values [0, 1, 2, 2b, 3]. For reasons given previously, we will be dropping all accidents with SEVERITYCODE =0, however we are still left with the categorical value '2b'. To facilitate modelling, I will switch the codes [0, 1, 2, 2b, 3] for codes [0, 1, 2, 3, 4], i.e. relabelling '2b' as '3', and relabelling '3' as '4'.\nSome columns, such as UNDERINFL and HITPARKEDCAR contain a mixture of alphanumeric (Y/N or 1/0), boolean (True/False) and missing (NaN) data. To prepare the data for modelling it will be important to homogenise these data by treating 1, Y and True as equivalent (and setting these to 1) and treating 0, N and False as equivalent (setting these to 0). Furthermore, we can infer that missing values (represented with NaN) are equivalent to 0/False.\nOther columns contain labelled data (e.g. WEATHERCOND , which takes one of a handful of values such as RAIN , CLEAR , SNOWING , etc). These can be prepared for modelling by using One-Hot Encoding, wherein a new column is created for each of the discrete values corresponding to the original variable/column, which is filled with 1s or 0s depending on the value in that column.\nIncorporating timestamp information: The INCDTTM column contains the incident date/time in alphanumeric form. This can be parsed to an actual timestamp using Pandas, and then separated in to separate columns for Hour, Day (of month) Day (of week), Month and Year to study temporal trends\n\nOther issues: after performing the above data engineering issues, we will create a copy of the data frame (minus any columns which will not be used for model-building) and perform a final check for any remaining NaNs/missing data. We will decide how to handle these later.\n\nOkay, let's get started!"
        },
        {
            "cell_type": "code",
            "execution_count": 14,
            "metadata": {},
            "outputs": [
                {
                    "name": "stdout",
                    "output_type": "stream",
                    "text": "Give a run-down of the values present in the table for SEVERITYCODE:\nProperty Damage Only Collision    136485\nInjury Collision                   58188\nName: SEVERITYDESC, dtype: int64\n\n Preparing to drop 0 rows.\nDone!\n"
                }
            ],
            "source": "#Check for and remove any rows with SEVERITYDESC = \"Unknown\"\nprint(\"Give a run-down of the values present in the table for SEVERITYCODE:\")\nprint(df[\"SEVERITYDESC\"].value_counts())\n\n#Identify and remove rows with SEVERITYDESC = \"Unknown\"\ntodrop = df[\"SEVERITYDESC\"] == 'Unknown'\nprint(\"\\n Preparing to drop \"+str(todrop.values.sum())+\" rows.\")\ndf.drop(df.index[todrop], inplace=True)\nprint(\"Done!\")\n\n#Re-index dataframe to account for missing rows\ndf.reset_index(inplace=True)"
        },
        {
            "cell_type": "code",
            "execution_count": null,
            "metadata": {},
            "outputs": [],
            "source": "#Delete unused columns\nif 'OBJECTID' in df:\n    del df[\"OBJECTID\"]\nif 'COLDETKEY' in df:\n    del df[\"COLDETKEY\"]\nif 'REPORTNO' in df:\n    del df[\"REPORTNO\"]\nif 'STATUS' in df:\n    del df[\"STATUS\"]\nif 'EXCEPTRSNCODE' in df:\n    del df[\"EXCEPTRSNCODE\"]\nif 'EXCEPTRSNDESC' in df:\n    del df[\"EXCEPTRSNDESC\"]\nif 'INCDATE' in df:\n    del df[\"INCDATE\"]\nif 'SDOTCOLNUM' in df:\n    del df[\"SDOTCOLNUM\"]\nif 'STCOLCODE' in df:\n    del df[\"STCOLCODE\"]"
        },
        {
            "cell_type": "code",
            "execution_count": null,
            "metadata": {},
            "outputs": [],
            "source": "#Find missing WEATHERCOND\ntodrop1 = df[\"WEATHER\"] == 'Unknown'\nnoweatherinfo = todrop1.values.sum()\n\n#Find missing ROADCOND\ntodrop2 = df[\"ROADCOND\"] == \"Unknown\"\nnoroadcondinfo = todrop2.values.sum()\n\n#Find missing LIGHTCOND\ntodrop3 = df[\"LIGHTCOND\"] == \"Unknown\"\nnolightinfo = todrop3.values.sum()\n\n#Collate these and remove\ndf[\"TODROP\"] = 0\ncount_noweather = 0\ncount_noinfo = 0\nfor i in range(0,len(todrop1)):\n    if todrop1[i] == True or todrop2[i] == True or todrop3[i] == True:\n        df[\"TODROP\"][i] = 1\n        \nprint(\"There are \"+str(noweatherinfo)+\" accidents with no weather information.\")\nprint(\"There are \"+str(noroadcondinfo)+\" accidents with no road condition information.\")\nprint(\"There are \"+str(nolightinfo)+\" accidents with no information about light conditions.\")\nprint(\"There are \"+str(df[\"TODROP\"].values.sum())+\" accidents without one or more of the above.\\n Deleting now...\")\n\n#Delete the temporary column \"TODROP\" and re-index the data\nshape0 = df.shape\ntodrop = df[\"TODROP\"] == 1\ndf.drop(df.index[todrop], inplace=True)\n\n#Print info about DF shape before and after\nprint(\"Shape of DF before: \"+str(shape0[0])+\" x \"+str(shape0[1]))\nprint(\"Shape of DF after: \"+str(df.shape[0])+\" x \"+str(df.shape[1]))\nprint(\"The original DF had shape: \"+str(df_shape_orig[0])+\" x \"+str(df_shape_orig[1]))\n\n#Re-index dataframe to account for missing rows\ndf.reset_index(inplace=True)\n\n#Delete the temporary \"TODROP\" column from the DataFrame\nif 'TODROP' in df:\n    del df[\"TODROP\"]\n    del df[\"level_0\"]\n    del df[\"index\"]"
        },
        {
            "cell_type": "code",
            "execution_count": null,
            "metadata": {},
            "outputs": [],
            "source": "#Make the target variable numerical by changing [0, 1, 2, 2b, 3] to [0, 1, 2, 3, 4]\n#Print the range of codes before cleaning:\nprint(df[\"SEVERITYCODE\"].value_counts())\n\n#Clean...\ncount2b = 0\ncount3  = 0\nfor i in range(0,len(df[\"SEVERITYCODE\"])):\n    if df[\"SEVERITYDESC\"][i] == 'Serious Injury Collision':\n        df[\"SEVERITYCODE\"][i] = 3\n        count2b += 1\n    if df[\"SEVERITYDESC\"][i] == 'Fatality Collision':\n        df[\"SEVERITYCODE\"][i] = 4\n        count3 += 1\n        \n#Make sure that SEVERITYCODE is cast as an integer, rather than an object\ndf = df.astype({'SEVERITYCODE':np.int})\n        \n#Confirm that the range of codes after cleaning is as expected:\nprint(\"\\n Changed \"+str(count2b)+\" entries from 2b->3 and \"+str(count3)+\" from 3->4. \\n The tables now look like:\")\nprint(df[\"SEVERITYCODE\"].value_counts())\nprint(df[\"SEVERITYDESC\"].value_counts())"
        },
        {
            "cell_type": "code",
            "execution_count": null,
            "metadata": {},
            "outputs": [],
            "source": "#Take columns with mixed boolean data types ([1, \"Y\", True],[0, \"N\", False] etc) and cast them as numerical variables\n#SPEEDING, INATTENTIONIND, UNDERINFL, PEDROWNOTGRNT, HITPARKEDCAR\ndf[\"SPEEDING\"].replace(np.nan, 0, inplace=True)\ndf[\"SPEEDING\"].replace(\"Y\", 1, inplace=True)\n\ndf[\"INATTENTIONIND\"].replace(np.nan, 0, inplace=True)\ndf[\"INATTENTIONIND\"].replace(\"Y\", 1, inplace=True)\n\ndf[\"UNDERINFL\"].replace(np.nan, 0, inplace=True)\ndf[\"UNDERINFL\"].replace('N', 0, inplace=True)\ndf[\"UNDERINFL\"].replace('0', 0, inplace=True)\ndf[\"UNDERINFL\"].replace('1', 1, inplace=True)\ndf[\"UNDERINFL\"].replace(\"Y\", 1, inplace=True)\n\ndf[\"PEDROWNOTGRNT\"].replace(np.nan, 0, inplace=True)\ndf[\"PEDROWNOTGRNT\"].replace(\"Y\", 1, inplace=True)\n\ndf[\"HITPARKEDCAR\"].replace(\"N\", 0, inplace=True)\ndf[\"HITPARKEDCAR\"].replace(np.nan, 0, inplace=True)\ndf[\"HITPARKEDCAR\"].replace(\"Y\", 1, inplace=True)"
        },
        {
            "cell_type": "code",
            "execution_count": null,
            "metadata": {},
            "outputs": [],
            "source": "df[\"WEATHER\"].value_counts()"
        },
        {
            "cell_type": "code",
            "execution_count": null,
            "metadata": {},
            "outputs": [],
            "source": "df[\"LIGHTCOND\"].value_counts()"
        },
        {
            "cell_type": "code",
            "execution_count": null,
            "metadata": {},
            "outputs": [],
            "source": "df[\"ROADCOND\"].value_counts()"
        },
        {
            "cell_type": "code",
            "execution_count": null,
            "metadata": {},
            "outputs": [],
            "source": "df[\"ADDRTYPE\"].value_counts()"
        },
        {
            "cell_type": "code",
            "execution_count": null,
            "metadata": {},
            "outputs": [],
            "source": "#Use One Hot Encoding to deal with categorical data\n#Get dummies for one-hot encoding\nweatherdummies = pd.get_dummies(df[\"WEATHER\"])\nlightconddummies = pd.get_dummies(df[\"LIGHTCOND\"])\nroadconddummies = pd.get_dummies(df[\"ROADCOND\"])\naddrtypedummies = pd.get_dummies(df[\"ADDRTYPE\"])\n\n#There is an \"other\" column in each of the above DFs -- rename these to avoid confusion\n#when the DataFrames are merged\nweatherdummies.rename(columns={\"Other\": \"Other weather\"}, inplace=True)\nlightconddummies.rename(columns={\"Other\": \"Other light\"}, inplace=True)\nroadconddummies.rename(columns={\"Other\": \"Other roadcond\"}, inplace=True)\n\n#Now use one-hot encoding on SDOT_COLCODE\ncolcodedummies = pd.get_dummies(df[\"SDOT_COLCODE\"])\ncolumns = colcodedummies.columns\nfor col in columns:\n    colcodedummies = colcodedummies.rename(columns={col: 'SDOT_COLCODE_'+str(col)})\n\n#Join columns to existing DataFrame\n#data_frames = [df, weatherdummies, lightconddummies, roadconddummies, addrtypedummies]\ndf = df.join(weatherdummies)\ndf = df.join(lightconddummies)\ndf = df.join(roadconddummies)\ndf = df.join(addrtypedummies)\ndf = df.join(colcodedummies)"
        },
        {
            "cell_type": "code",
            "execution_count": null,
            "metadata": {},
            "outputs": [],
            "source": "print(colcodedummies.shape)\ncolcodedummies.head(5)"
        },
        {
            "cell_type": "code",
            "execution_count": null,
            "metadata": {},
            "outputs": [],
            "source": "#Separate Date/Time from INCDTTM colum and create columns for Hour/Minute, Day/Month/Year\ndf[\"INC_DATE_TIME\"] = pd.to_datetime(df[\"INCDTTM\"])\ndf[\"MONTH\"] = pd.DatetimeIndex(df[\"INC_DATE_TIME\"]).month\ndf[\"DAY_OF_WEEK\"] = df[\"INC_DATE_TIME\"].dt.dayofweek\ndf[\"DAY_OF_MONTH\"] = pd.DatetimeIndex(df[\"INC_DATE_TIME\"]).day\ndf[\"YEAR\"] = pd.DatetimeIndex(df[\"INC_DATE_TIME\"]).year\n\n#Find the nearest whole hour to the time the collision occurred, e.g. 14:25 -> 14:00 and 14:35 -> 15:00\nfrom datetime import datetime, timedelta\n\n#Create new columns\ndf[\"TIME_ROUNDED_TO_NEAREST_HOUR\"] = 0\ndf[\"DAY_STRING\"] = 0\ndf[\"MONTH_STRING\"] = 0\ndf[\"WEEKEND\"] = 0\n\n#Define some useful functions\ndef hour_rounder(t):\n    # Rounds to nearest hour by adding a timedelta hour if minute >= 30\n    return (t.replace(second=0, microsecond=0, minute=0, hour=t.hour)\n               +timedelta(hours=t.minute//30))\n\ndef get_dow(day_int):\n    if day_int == 0:\n        dow = 'Mon'\n    if day_int == 1:\n        dow = 'Tue'\n    if day_int == 2:\n        dow = 'Wed'\n    if day_int == 3:\n        dow = 'Thu'\n    if day_int == 4:\n        dow = 'Fri'\n    if day_int == 5:\n        dow = 'Sat'\n    if day_int == 6:\n        dow = 'Sun'\n    return dow\n\ndef get_month(month_int):\n    if month_int == 1:\n        monthstring = 'Jan'\n    if month_int == 2:\n        monthstring = 'Feb'\n    if month_int == 3:\n        monthstring = 'Mar'\n    if month_int == 4:\n        monthstring = 'Apr'\n    if month_int == 5:\n        monthstring = 'May'\n    if month_int == 6:\n        monthstring = 'Jun'\n    if month_int == 7:\n        monthstring = 'Jul'\n    if month_int == 8:\n        monthstring = 'Aug'\n    if month_int == 9:\n        monthstring = 'Sep'\n    if month_int == 10:\n        monthstring = 'Oct'\n    if month_int == 11:\n        monthstring = 'Nov'\n    if month_int == 12:\n        monthstring = 'Dec'\n    return monthstring\n     \ndef is_weekend(day_int):\n    if day_int <= 4:\n        isweekend = 0\n    else:\n        isweekend = 1\n    return isweekend\n\nstart_time = time.time()\n#Get the day of the week from its integer value (0-6)\nprint(\"Get the day of the week from its integer value (0-6):\")\nwith concurrent.futures.ProcessPoolExecutor(num_processes) as pool:\n    df[\"DAY_STRING\"] = list(tqdm(pool.map(get_dow, df[\"DAY_OF_WEEK\"], chunksize=10), total=df.shape[0]))\n    \n#Get the name of the month from its integer value (1-12)\nprint(\"Get the name of the month from its integer value (1-11):\")\nwith concurrent.futures.ProcessPoolExecutor(num_processes) as pool:\n    df[\"MONTH_STRING\"] = list(tqdm(pool.map(get_month, df[\"MONTH\"], chunksize=10), total=df.shape[0]))\n    \n#Round time to the nearest whole hour\nprint(\"Round time to the nearest whole hour:\")\nwith concurrent.futures.ProcessPoolExecutor(num_processes) as pool:\n    df[\"TIME_ROUNDED_TO_NEAREST_HOUR\"] = list(tqdm(pool.map(hour_rounder, df[\"INC_DATE_TIME\"], chunksize=10), total=df.shape[0]))\n    \n#Check if an accident occurred on the weekend or not\nprint(\"Check if an accident occurred on the weekend or not:\")\nwith concurrent.futures.ProcessPoolExecutor(num_processes) as pool:\n    df[\"WEEKEND\"] = list(tqdm(pool.map(is_weekend, df[\"DAY_OF_WEEK\"], chunksize=10), total=df.shape[0]))\n       \nelapsed_time = time.time() - start_time\nprint(\"Elapsed time for parallel FOR loop (seconds): \"+str(elapsed_time))\n        \n#Now store the nearest hour to the time of the accident as an integer and delete the rounded Datetime\ndf[\"HOUR_NEAREST\"] = pd.DatetimeIndex(df[\"TIME_ROUNDED_TO_NEAREST_HOUR\"]).hour\ndel df[\"TIME_ROUNDED_TO_NEAREST_HOUR\"]\n\n#Check the result of this\ndf.head(5)"
        },
        {
            "cell_type": "code",
            "execution_count": null,
            "metadata": {},
            "outputs": [],
            "source": "#Check the dataframe for any NaNs\nprint(df.isnull().sum(axis=0))"
        },
        {
            "cell_type": "code",
            "execution_count": null,
            "metadata": {},
            "outputs": [],
            "source": "#ST_COLCODE\n#Find NaNs and set these to spaces.\nprint(\"How many are null: \"+str(df[\"ST_COLCODE\"].isnull().sum()))\nprint(\"Try to populate these with -999\")\ndf[\"ST_COLCODE\"].fillna(' ', inplace=True)\nprint(\"How many are null: \"+str(df[\"ST_COLCODE\"].isnull().sum()))\n\n#Get rid of accidents with no ST_COLCODE (null and/or former NaNs)\ntodrop = df[\"ST_COLCODE\"] == ' '\n\n#Collate these and remove\ndf[\"TODROP\"] = 0\nfor i in range(0,len(todrop)):\n    if todrop[i] == True:\n        df[\"TODROP\"][i] = 1\n        \nprint(\"There are \"+str(df[\"TODROP\"].values.sum())+\" accidents without an ST_COLCODE.\\n Deleting now...\")\n\n#Delete the temporary column \"TODROP\" and re-index the data\ntodrop = df[\"TODROP\"] == 1\ndf.drop(df.index[todrop], inplace=True)\n\n#Re-index dataframe to account for missing rows\ndf.reset_index(inplace=True)\n\n#Delete the temporary \"TODROP\" column from the DataFrame\nif 'TODROP' in df:\n    del df[\"TODROP\"]\n    del df[\"index\"]\n\n#Cast from type 'object' to type 'int'\ndf = df.astype({'ST_COLCODE':np.int64})\n    \nprint(\"Dataframe shape now:\")\ndf.shape"
        },
        {
            "cell_type": "code",
            "execution_count": null,
            "metadata": {},
            "outputs": [],
            "source": "#Missing geographical data\n#Find null values and replace these with NaN\n#Find NaNs and set these to spaces.\nprint(\"There are \"+str(df[\"X\"].isnull().sum())+\" null location values. Will try to get X, Y data for these based on the locations of other accidents that share the same INTKEY.\")\n\n#Go through the accidents with no X,Y data and see if we can match them to others\n#that share the same INTKEY\ndf[\"NOT_HAS_COORDS\"] = df[\"X\"].isnull()\ncount = 0\nfor i in range(0,len(df[\"X\"])):\n    if df[\"NOT_HAS_COORDS\"][i] == True:\n        if df[\"INTKEY\"][i] > 0:\n            #Find other accidents which share the same INTKEY\n            matched_intersections = df.loc[df[\"INTKEY\"] == df[\"INTKEY\"][i]]\n            #Do any of these have the required X,Y data?\n            with_geodata = matched_intersections[\"X\"].count()\n            if with_geodata > 0:\n                matched_intersections.head()\n                count += 1\n\nif \"NOT_HAS_COORDS\" in df:\n    del df[\"NOT_HAS_COORDS\"]\n    \nprint(\"Added locations for \"+str(count)+\" accidents based on shared INTKEYS.\")"
        },
        {
            "cell_type": "code",
            "execution_count": null,
            "metadata": {},
            "outputs": [],
            "source": "#Remove accidents from the database which still have no location information\n#X, Y\n#Find NaNs and set these to spaces.\nprint(\"There are \"+str(df[\"X\"].isnull().sum())+\" accidents with no location information\")\nprint(\"Populate these with -999 and then delete\")\ndf[\"X\"].fillna(-999, inplace=True)\nprint(\"There are now \"+str(df[\"ST_COLCODE\"].isnull().sum())+\" with NaN/null locations.\")\nprint(\"I will now delete these...\")\n\n#Get rid of accidents with no ST_COLCODE (null and/or former NaNs)\ntodrop = df[\"X\"] == -999\n\n#Collate these and remove\ndf[\"TODROP\"] = 0\nfor i in range(0,len(todrop)):\n    if todrop[i] == True:\n        df[\"TODROP\"][i] = 1\n        \nprint(\"There are \"+str(df[\"TODROP\"].values.sum())+\" accidents without an location.\\n Deleting now...\")\n\n#Delete the temporary column \"TODROP\" and re-index the data\ntodrop = df[\"TODROP\"] == 1\ndf.drop(df.index[todrop], inplace=True)\n\n#Re-index dataframe to account for missing rows\ndf.reset_index(inplace=True)\n\n#Delete the temporary \"TODROP\" column from the DataFrame\nif 'TODROP' in df:\n    del df[\"TODROP\"]\n    del df[\"index\"]\n\nprint(\"Dataframe shape now:\")\ndf.shape"
        },
        {
            "cell_type": "code",
            "execution_count": null,
            "metadata": {},
            "outputs": [],
            "source": "#Keep the full dataframe, but create a copy which drops columns which will not be used for modelling\ndata = df.copy()\nif 'INCKEY' in df:\n    del data[\"INCKEY\"]\n    del data[\"INTKEY\"]\n    del data[\"ADDRTYPE\"]\n    del data[\"LOCATION\"]\n    del data[\"SEVERITYDESC\"]\n    del data[\"COLLISIONTYPE\"]\n    del data[\"INCDTTM\"]\n    del data[\"JUNCTIONTYPE\"]\n    del data[\"SDOT_COLDESC\"]"
        },
        {
            "cell_type": "code",
            "execution_count": null,
            "metadata": {},
            "outputs": [],
            "source": "print(\"The shape of the dataframe is:\")\nprint(data.shape)"
        },
        {
            "cell_type": "code",
            "execution_count": null,
            "metadata": {},
            "outputs": [],
            "source": "print(\"The data types are:\")\ndata.dtypes"
        },
        {
            "cell_type": "code",
            "execution_count": null,
            "metadata": {},
            "outputs": [],
            "source": "print(\"Here is a count of how many null/NaN values there are in each column:\")\nprint(data.isnull().sum(axis=0))"
        },
        {
            "cell_type": "markdown",
            "metadata": {},
            "source": "# Data Exploration 1: Where do accidents occur?\nThe Seattle Open Data portal record of traffic accidents include the latitude and longitude (as X, Y, respectively) of every accident that occurred in the city council area. Let's create a map in Folium to see where these occur. This might highlight some key \"choke points\" in the city road network and give context for some of the predictions that eventually come out of the model."
        },
        {
            "cell_type": "code",
            "execution_count": null,
            "metadata": {},
            "outputs": [],
            "source": "import folium\n\n#Get the median latitude and logitude and centre the map there\nlon_med = data[\"X\"].mean()\nlat_med = data[\"Y\"].mean()\n\nprint(lat_med)\nprint(lon_med)\n\nseattle_map = folium.Map(location=[lat_med, lon_med], zoom_start=11)\nseattle_map"
        },
        {
            "cell_type": "code",
            "execution_count": null,
            "metadata": {},
            "outputs": [],
            "source": "import pyscreenshot as ImageGrab\nfrom selenium import webdriver\n\n#im=ImageGrab.grab()\n#im.save('map1_seattle.png', format='png')\n##im=ImageGrab.grab(bbox=(500,250,1480,830))\n\n#Read the Seattle geojson data\nimport json\nimport requests\n\n#GeoJSON file obtained from https://raw.githubusercontent.com/seattleio/seattle-boundaries-data/master/data/neighborhoods.geojson\n#!wget https://raw.githubusercontent.com/seattleio/seattle-boundaries-data/master/data/neighborhoods.geojson\ngeofile = 'neighborhoods.geojson'\n\nwith open(geofile) as json_file:\n    geodata = json.load(json_file)\n\nprint(\"There are \"+str(len(geodata['features']))+\" districts in the Seattle area:\")"
        },
        {
            "cell_type": "code",
            "execution_count": null,
            "metadata": {},
            "outputs": [],
            "source": "#Convert latitude/longitude to point objects and find out which area they lie in\nfrom shapely.geometry import shape, Point, Polygon\nfrom shapely.ops import nearest_points\nfrom time import strftime, gmtime\nimport random\n\n    \ndef find_county(lon, lat):\n    point = Point(lon, lat)\n    found_nhood = 0\n    '''Most accidents can be trivially located within a neighbourhood\n       using the polygon.contains() function from shapely\n    '''\n    for i in range(0,len(geodata['features'])):\n        polygon = shape(geodata['features'][i]['geometry'])\n    if polygon.contains(point):\n            nhood = geodata['features'][i]['properties']['name']\n            found_nhood = 1\n    if found_nhood == 0:\n        '''Some accidents can't be located within neighbourhoods because\n           they occur on major highways which mark neighbourhood boundaries:\n           the \"no man's land\" problem. Let's deal with these by assigning\n           them to the _nearest_ neighbourhood\n        '''\n        nhoods = []\n        distances = np.zeros(len(geodata['features']))\n        for i in range(0,len(geodata['features'])):\n            polygon = shape(geodata['features'][i]['geometry'])\n            distances[i] = point.distance(polygon)\n            nhoods.append(geodata['features'][i]['properties']['name'])\n            \n        min_distance = np.where(distances == np.amin(distances)) \n        try:\n            #Usually this finds the nearest district\n            min_distance_index = int(min_distance[0])\n        except:\n            '''But sometimes the accident is exactly equidistant between\n               two neighbourhood boundaries. In this case, choose one\n               of the districts at random to avoid biasing the sample\n            '''\n            min_distance_index = int(random.choice(min_distance[0]))\n        nhood = nhoods[min_distance_index]\n        found_nhood = 1\n        if found_nhood == 0:\n            sys.exit(\"I'm sorry I can't do that Dave...\")\n    return nhood\n    \nstart_time = time.time()\n\nfrom tqdm.auto import tqdm, trange\nwith concurrent.futures.ProcessPoolExecutor(num_processes) as pool:\n    data[\"NEIGHBOURHOOD\"] = list(tqdm(pool.map(find_county, data['X'], data['Y'], chunksize=10), total=df.shape[0]))\n    \n        \nelapsed_time = time.time() - start_time\nprint(\"Multi-thread elapsed time: \"+str(strftime(\"%H:%M:%S\", gmtime(elapsed_time))))"
        },
        {
            "cell_type": "code",
            "execution_count": null,
            "metadata": {},
            "outputs": [],
            "source": "print(\"There are \"+str(data[\"NEIGHBOURHOOD\"].isnull().sum())+\" accidents with no neighbourhood information\")\nprint(\"The number of accidents in each neighbourhood is as follows:\")\ndata[\"NEIGHBOURHOOD\"].value_counts()"
        },
        {
            "cell_type": "code",
            "execution_count": null,
            "metadata": {},
            "outputs": [],
            "source": "#Now count how many accidents there are in each neighbourhood\naccidents_per_nhood = pd.DataFrame(data[\"NEIGHBOURHOOD\"].value_counts())\naccidents_per_nhood.reset_index(inplace=True)\naccidents_per_nhood.rename(columns = {'NEIGHBOURHOOD':\"COUNT\"}, inplace=True)\naccidents_per_nhood.rename(columns = {'index':\"NEIGHBOURHOOD\"}, inplace=True)\n\n#Also calculate the average severity of accidents in each area for later\ntemp_df = data.groupby(['NEIGHBOURHOOD']).mean()\ntemp_df.reset_index(inplace=True)\naccidents_per_nhood[\"MEAN_SEVERITY\"] = 0.0\nfor i in range(0,len(accidents_per_nhood[\"NEIGHBOURHOOD\"])):\n    for j in range(0,len(temp_df[\"X\"])):\n        if accidents_per_nhood[\"NEIGHBOURHOOD\"][i] == temp_df[\"NEIGHBOURHOOD\"][j]:\n            accidents_per_nhood[\"MEAN_SEVERITY\"][i] = temp_df[\"SEVERITYCODE\"][j]\n\naccidents_per_nhood.head(5)"
        },
        {
            "cell_type": "code",
            "execution_count": null,
            "metadata": {},
            "outputs": [],
            "source": "print(folium.__version__)\n\n#Now use the geojson data and create a choropleth map\nthreshold_scale = np.linspace(accidents_per_nhood['COUNT'].min(),\n                              accidents_per_nhood['COUNT'].max(),\n                              6, dtype=int)\nthreshold_scale = threshold_scale.tolist() # change the numpy array to a list\nthreshold_scale[-1] = threshold_scale[-1] + 1 \n\n# generate choropleth map using the accident data\nseattle_map = folium.Map(location=[lat_med, lon_med], zoom_start=11)\nseattle_map.choropleth(\n    geo_data=geodata,\n    data=accidents_per_nhood,\n    columns=['NEIGHBOURHOOD', 'COUNT'],\n    key_on='feature.properties.name',\n    threshold_scale=threshold_scale,\n    fill_color='YlOrRd', \n    fill_opacity=0.7, \n    line_opacity=0.2,\n    nan_fill_opacity=0.0,\n    nan_line_opacity=0.0,\n    legend_name='N accidents per neighbourhood',\n    reset=True\n)\n\n# display map\nseattle_map"
        },
        {
            "cell_type": "code",
            "execution_count": null,
            "metadata": {},
            "outputs": [],
            "source": "#im=ImageGrab.grab()\n#im.save('map2_number_of_accidents.png', format='png')\n#im=ImageGrab.grab(bbox=(500,250,1480,830))"
        },
        {
            "cell_type": "code",
            "execution_count": null,
            "metadata": {},
            "outputs": [],
            "source": "#Accident severity map\nthreshold_scale = np.linspace(accidents_per_nhood['MEAN_SEVERITY'].min(),\n                              accidents_per_nhood['MEAN_SEVERITY'].max(),\n                              6, dtype=int)\nthreshold_scale = threshold_scale.tolist() # change the numpy array to a list\nthreshold_scale[-1] = threshold_scale[-1] + 1 \n\n#Generate a choropleth map of the mean accident severity in each neighbourhood\nseattle_map = folium.Map(location=[lat_med, lon_med], zoom_start=11)\nseattle_map.choropleth(\n    geo_data=geodata,\n    data=accidents_per_nhood,\n    columns=['NEIGHBOURHOOD', 'MEAN_SEVERITY'],\n    key_on='feature.properties.name',\n    #threshold_scale=threshold_scale,\n    fill_color='YlOrRd', \n    fill_opacity=0.7, \n    line_opacity=0.2,\n    nan_fill_opacity=0.0,\n    nan_line_opacity=0.0,\n    legend_name='Average severity code of accidents',\n    reset=True\n)\n\n# display map\nseattle_map"
        },
        {
            "cell_type": "code",
            "execution_count": null,
            "metadata": {},
            "outputs": [],
            "source": "#im=ImageGrab.grab()\n#im.save('map3_accident_severity.png', format='png')\n#im=ImageGrab.grab(bbox=(500,250,1480,830))"
        },
        {
            "cell_type": "code",
            "execution_count": null,
            "metadata": {},
            "outputs": [],
            "source": "#Import Matplotlib and prepare inline plotting\n%matplotlib inline\nimport matplotlib as mpl\nimport matplotlib.pyplot as plt\nfrom collections import Counter\n\n#Set up gpplot style\nmpl.style.use('ggplot')\n\n# check for latest version of Matplotlib\nprint ('Matplotlib version: ', mpl.__version__) # >= 2.0.0\ndf[\"ADDRTYPE\"].value_counts()"
        },
        {
            "cell_type": "code",
            "execution_count": null,
            "metadata": {},
            "outputs": [],
            "source": "\nprint(\"There are \"+str(len(df))+\" entries in df currently.\")\n\n#Create a 2x2 set of bar charts to describe the accident data\nplt.rcParams[\"figure.figsize\"] = (16,16)\n#1 - Accident severities\nplt.subplot(2,2,1)\nfreqs = Counter(df[\"SEVERITYDESC\"])\nxvals = range(len(freqs.values()))\nplt.title(\"Distribution of accident outcomes\")\nplt.title('(a)')\nplt.ylabel(\"Number of accidents\")\nplt.grid(b=None)\nplt.bar(xvals, freqs.values() , color='#37777D')\nplt.xticks(xvals, freqs.keys(), rotation='vertical')\nplt.yscale('log')\n\n#2 - Number of people involved\nplt.subplot(2,2,2)\nfreqs = Counter(df[\"PERSONCOUNT\"])\nxvals = range(len(freqs.values()))\nplt.title('(b)')\nplt.xlabel(\"Number of people involved\")\nplt.ylabel(\"log(Number of accidents)\")\nplt.grid(b=None)\nplt.hist(df[\"PERSONCOUNT\"], align='left', color='#37777D')\nplt.yscale('log')\n\n#3 - Number of people involved\nplt.subplot(2,2,3)\nfreqs = Counter(df[\"INJURIES\"])\nxvals = range(len(freqs.values()))\nplt.title('(c)')\nplt.xlabel(\"Number of injuries\")\nplt.ylabel(\"log(Number of accidents)\")\nplt.grid(b=None)\nplt.hist(df[\"INJURIES\"], align='left', color='#37777D')\nplt.yscale('log')\n\n#4 - Number of fatalities per accident\nplt.subplot(2,2,4)\nfreqs = Counter(df[\"FATALITIES\"])\nxvals = range(len(freqs.values()))\nplt.title('(d)')\nplt.xlabel(\"Number of fatalities\")\nplt.ylabel(\"log(Number of accidents)\")\nplt.grid(b=None)\nplt.hist(df[\"FATALITIES\"], bins=[0,1,2,3,4,5,6], align='left', color='#37777D')\nplt.yscale('log')\n\nplt.subplots_adjust(hspace=0.6)\n#plt.savefig('./FigZZZ_accident_histograms.png', bbox_inches='tight')"
        },
        {
            "cell_type": "code",
            "execution_count": null,
            "metadata": {},
            "outputs": [],
            "source": "#Metadata for the charts that follow:\n#1 - Weather conditions\nprint('Frequency of weather types:')\nprint(df[\"WEATHER\"].value_counts())\nprint(len(df[\"WEATHER\"]))"
        },
        {
            "cell_type": "code",
            "execution_count": null,
            "metadata": {},
            "outputs": [],
            "source": "#2 - Road conditions\nprint('Frequency of rifferent road conditions:')\nprint(df[\"ROADCOND\"].value_counts())"
        },
        {
            "cell_type": "code",
            "execution_count": null,
            "metadata": {},
            "outputs": [],
            "source": "#3 - Light conditions\nprint('Frequency of different light conditions:')\nprint(df[\"LIGHTCOND\"].value_counts())"
        },
        {
            "cell_type": "code",
            "execution_count": null,
            "metadata": {},
            "outputs": [],
            "source": "#4 - Month of year in which accident happens\nprint('Months of the year (there should be 12...)')\nprint(df[\"MONTH\"].value_counts())"
        },
        {
            "cell_type": "code",
            "execution_count": null,
            "metadata": {},
            "outputs": [],
            "source": "#Create a 2x2 set of bar charts to describe the accident data\nplt.rcParams[\"figure.figsize\"] = (16,16)\n#1 - Weather conditions\nplt.subplot(2,2,1)\nfreqs = Counter(df[\"WEATHER\"])\nxvals = range(len(freqs.values()))\nplt.title('(a)')\nplt.ylabel(\"Number of accidents\")\nplt.grid(b=None)\nplt.bar(xvals, freqs.values() , color='#37777D')\nplt.xticks(xvals, freqs.keys(), rotation='vertical')\n\n#2 - Road conditions\nplt.subplot(2,2,2)\nfreqs = Counter(df[\"ROADCOND\"])\nxvals = range(len(freqs.values()))\nplt.title('(b)')\nplt.ylabel(\"Number of accidents\")\nplt.grid(b=None)\nplt.bar(xvals, freqs.values() , color='#37777D')\nplt.xticks(xvals, freqs.keys(), rotation='vertical')\n\n#3 - Light conditions\nplt.subplot(2,2,3)\nfreqs = Counter(df[\"LIGHTCOND\"])\nxvals = range(len(freqs.values()))\nplt.title('(c)')\nplt.ylabel(\"Number of accidents\")\nplt.grid(b=None)\nplt.bar(xvals, freqs.values() , color='#37777D')\nplt.xticks(xvals, freqs.keys(), rotation='vertical')\n\n#4 - ADDRTYPE\nplt.subplot(2,2,4)\nfreqs = Counter(df[\"COLLISIONTYPE\"])\nxvals = range(len(freqs.values()))\nplt.title('(d)')\nplt.ylabel(\"Number of accidents\")\nplt.grid(b=None)\nplt.bar(xvals, freqs.values() , color='#37777D')\nplt.xticks(xvals, freqs.keys(), rotation='vertical')\nplt.subplots_adjust(hspace=0.6)\n#plt.savefig('./FigZZZ_accidents_by_roadcond.png', bbox_inches='tight')"
        },
        {
            "cell_type": "code",
            "execution_count": null,
            "metadata": {},
            "outputs": [],
            "source": "#Create a 2x2 set of bar charts to describe the accident data\nplt.rcParams[\"figure.figsize\"] = (16,8)\n\n#1 - Day of week in which accident happens\nplt.subplot(1,2,1)\nfreqs = Counter(df[\"DAY_OF_WEEK\"])\nxvals = range(len(freqs.values()))\n#Order the days\nordered = dict(sorted(freqs.items()))\ndaynames = ['Mon','Tue','Wed','Thu','Fri','Sat','Sun']\nplt.title('(a)')\nplt.xlabel(\"Day of week\")\nplt.ylabel(\"Number of accidents\")\nplt.grid(b=None)\nplt.bar(xvals, ordered.values() , color='#37777D')\nplt.xticks(xvals, daynames, rotation='vertical')\n\n#2 - Month of year in which accident happens\nplt.subplot(1,2,2)\nfreqs = Counter(df[\"MONTH\"])\nxvals = range(len(freqs.values()))\n#Order the months\nordered = dict(sorted(freqs.items()))\nmonthnames = ['Jan','Feb','Mar','Apr','May', 'Jun','Jul','Aug','Sep','Oct','Nov','Dec']\nplt.title('(b)')\nplt.xlabel(\"Month\")\nplt.ylabel(\"Number of accidents\")\nplt.grid(b=None)\nplt.bar(xvals, ordered.values() , color='#37777D')\nplt.xticks(xvals, monthnames, rotation='vertical')\nplt.subplots_adjust(hspace=0.6)\n#plt.savefig('./FigZZZ_accidents_by_DOW_month.png', bbox_inches='tight')"
        },
        {
            "cell_type": "code",
            "execution_count": null,
            "metadata": {},
            "outputs": [],
            "source": "#Count how many accidents occurred on each month since the beginning of the dataset\n\n#Plot showing the number of accidents in each month since time began\n#Set a monthrange between the first and last months in the dataframe:\nmonthssorted = sorted(df[\"INC_DATE_TIME\"])\nmonth_range = pd.period_range(start=monthssorted[0],end=monthssorted[-1],freq='M')\nmonth_df = pd.DataFrame(month_range, columns=[\"YEAR_MONTH\"])\n\n#Index by time\nnew_df = pd.DataFrame(sorted(df[\"INC_DATE_TIME\"]),columns=['INC_DATE_TIME'])\nnew_df[\"DATETIME\"] = 0\n\ndef todatetime(time):\n    output = time.to_pydatetime()\n    return output.date()\n\nfrom tqdm.auto import tqdm, trange\nwith concurrent.futures.ProcessPoolExecutor(num_processes) as pool:\n    new_df[\"DATETIME\"] = list(tqdm(pool.map(todatetime, new_df[\"INC_DATE_TIME\"], chunksize=10), total=new_df.shape[0]))\nnew_df.set_index(\"DATETIME\", inplace=True)\n\n#Iterate over months and sum up the number of accidents in each\naccidents_this_month = [0]*len(month_range)\naccidents_this_month_daily = [0]*len(month_range)\ndays_in_month = np.zeros(len(month_range))\nfor i in range(0,len(month_range)):\n    startdate = month_range[i].start_time.date()#.to_pydatetime()\n    enddate = month_range[i].end_time.date()#.to_pydatetime()\n    #Loop over the dataframe\n    days_in_month[i] = month_range[i].days_in_month\n    accidents_this_month[i] = len(new_df.loc[startdate:enddate]) \n    accidents_this_month_daily[i] = len(new_df.loc[startdate:enddate]) / days_in_month[i]\n    \nmonth_df[\"ACCIDENTS_THIS_MONTH\"] = accidents_this_month\nmonth_df[\"ACCIDENTS_THIS_MONTH_DAILY\"] = accidents_this_month_daily\nmonth_df[\"DAYS_IN_MONTH\"] = days_in_month\nmonth_df.head(15)"
        },
        {
            "cell_type": "code",
            "execution_count": null,
            "metadata": {},
            "outputs": [],
            "source": "import matplotlib.dates as mdates\n\n#Now plot the number of accidents for each month in the dataset\nplt.rcParams[\"figure.figsize\"] = (16,8)\n\n#Convert Period to a fixed date for the start of each month\nmonth_df[\"START_OF_MONTH\"] = [0] * len(month_df)\nfor i in range(0,len(month_df)):\n    month_df[\"START_OF_MONTH\"][i] = month_df[\"YEAR_MONTH\"][i].start_time.date()\n    \n#Get a three-month rolling average\nmonth_df[\"SIX_MONTH_AVG\"] = month_df.iloc[:,1].rolling(window=6).mean()\n\nax = plt.gca()\nplt.rc('xtick',labelsize=10)\nplt.rc('ytick',labelsize=10)\nyears = mdates.YearLocator()   \nmonths = mdates.MonthLocator()\nax.xaxis.set_major_locator(years)\nax.xaxis.set_minor_locator(months)\nplt.xlabel(\"Year\", size=28)\nplt.ylabel(\"Number of accidents per month\", size=28)\nplt.plot(month_df[\"START_OF_MONTH\"], month_df[\"SIX_MONTH_AVG\"], color='#37777D')\nplt.scatter(month_df[\"START_OF_MONTH\"], month_df[\"ACCIDENTS_THIS_MONTH\"], color='#37777D')\n#plt.savefig('./Figs/Fig1_accidents_per_month.png', bbox_inches='tight')"
        },
        {
            "cell_type": "code",
            "execution_count": null,
            "metadata": {},
            "outputs": [],
            "source": "import matplotlib.dates as mdates\n\n#Now plot the number of *daily* accidents for each month in the dataset\nplt.rcParams[\"figure.figsize\"] = (16,8)\n\n#Get a three-month rolling average\nmonth_df[\"SIX_MONTH_AVG_DAILY\"] = month_df.iloc[:,2].rolling(window=6).mean()\n\nplt.rc('xtick',labelsize=11)\nplt.rc('ytick',labelsize=10)\n\nax = plt.gca()\nyears = mdates.YearLocator()   \nmonths = mdates.MonthLocator()\nax.xaxis.set_major_locator(years)\nax.xaxis.set_minor_locator(months)\nplt.xlabel(\"Date\", size=24)\nplt.ylabel(\"Number of accidents per day\", size=24)\nplt.plot(month_df[\"START_OF_MONTH\"], month_df[\"SIX_MONTH_AVG_DAILY\"], color='#37777D')\nplt.scatter(month_df[\"START_OF_MONTH\"], month_df[\"ACCIDENTS_THIS_MONTH_DAILY\"], color='#37777D')\nplt.savefig('./Fig5_daily_accidents_per_month.png', bbox_inches='tight')"
        },
        {
            "cell_type": "markdown",
            "metadata": {},
            "source": "# Pre-Processing: Feature extraction\nWe now enter the final phase of data preparation -- deciding which of the remaining columns from the dataframe to include in our model building. Let's begin by looking at a correlation matrix for the dataset"
        },
        {
            "cell_type": "code",
            "execution_count": null,
            "metadata": {},
            "outputs": [],
            "source": "if \"Alley\" in data:\n    del data[\"Alley\"]\n\nplt.rcParams[\"figure.figsize\"] = (18,16)\ncorr = data.corr()\nplt.rc('xtick',labelsize=10)\nplt.rc('ytick',labelsize=10)\nsns.heatmap(corr, xticklabels=corr.columns, yticklabels=corr.columns)\nplt.savefig('./Figs/Fig3_correlation_unscaled.png', bbox_inches='tight')"
        },
        {
            "cell_type": "code",
            "execution_count": null,
            "metadata": {},
            "outputs": [],
            "source": ""
        },
        {
            "cell_type": "code",
            "execution_count": null,
            "metadata": {},
            "outputs": [],
            "source": ""
        },
        {
            "cell_type": "code",
            "execution_count": null,
            "metadata": {},
            "outputs": [],
            "source": ""
        },
        {
            "cell_type": "code",
            "execution_count": null,
            "metadata": {},
            "outputs": [],
            "source": ""
        },
        {
            "cell_type": "code",
            "execution_count": null,
            "metadata": {},
            "outputs": [],
            "source": ""
        },
        {
            "cell_type": "code",
            "execution_count": null,
            "metadata": {},
            "outputs": [],
            "source": ""
        },
        {
            "cell_type": "code",
            "execution_count": null,
            "metadata": {},
            "outputs": [],
            "source": ""
        },
        {
            "cell_type": "code",
            "execution_count": null,
            "metadata": {},
            "outputs": [],
            "source": ""
        },
        {
            "cell_type": "code",
            "execution_count": null,
            "metadata": {},
            "outputs": [],
            "source": ""
        },
        {
            "cell_type": "code",
            "execution_count": null,
            "metadata": {},
            "outputs": [],
            "source": ""
        },
        {
            "cell_type": "code",
            "execution_count": null,
            "metadata": {},
            "outputs": [],
            "source": ""
        },
        {
            "cell_type": "code",
            "execution_count": null,
            "metadata": {},
            "outputs": [],
            "source": ""
        },
        {
            "cell_type": "code",
            "execution_count": null,
            "metadata": {},
            "outputs": [],
            "source": ""
        },
        {
            "cell_type": "code",
            "execution_count": null,
            "metadata": {},
            "outputs": [],
            "source": ""
        },
        {
            "cell_type": "code",
            "execution_count": null,
            "metadata": {},
            "outputs": [],
            "source": ""
        },
        {
            "cell_type": "code",
            "execution_count": null,
            "metadata": {},
            "outputs": [],
            "source": ""
        },
        {
            "cell_type": "code",
            "execution_count": null,
            "metadata": {},
            "outputs": [],
            "source": ""
        }
    ],
    "metadata": {
        "kernelspec": {
            "display_name": "Python 3.6",
            "language": "python",
            "name": "python3"
        },
        "language_info": {
            "codemirror_mode": {
                "name": "ipython",
                "version": 3
            },
            "file_extension": ".py",
            "mimetype": "text/x-python",
            "name": "python",
            "nbconvert_exporter": "python",
            "pygments_lexer": "ipython3",
            "version": "3.6.9"
        }
    },
    "nbformat": 4,
    "nbformat_minor": 1
}