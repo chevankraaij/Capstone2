{
    "cells": [
        {
            "cell_type": "markdown",
            "metadata": {},
            "source": "This notebook is for the Capstone project"
        },
        {
            "cell_type": "code",
            "execution_count": null,
            "metadata": {},
            "outputs": [],
            "source": "import pandas as pd\nimport numpy as np"
        },
        {
            "cell_type": "code",
            "execution_count": null,
            "metadata": {},
            "outputs": [],
            "source": "print(\"Hello Capstone Project Course!\")"
        },
        {
            "cell_type": "code",
            "execution_count": null,
            "metadata": {},
            "outputs": [],
            "source": "#Import additional packages\nfrom sklearn.preprocessing import StandardScaler\nimport time\nimport seaborn as sns\nfrom tqdm.auto import tqdm, trange\n\n!pip install pyscreenshot\n\n#Set up parallel processing\nimport concurrent.futures\nimport multiprocessing\nnum_processes = multiprocessing.cpu_count()\nprint(\"There are \"+str(num_processes)+\" logical cores on this system.\")\nglobal_starttime = time.time()"
        },
        {
            "cell_type": "markdown",
            "metadata": {},
            "source": "# Data acquisition"
        },
        {
            "cell_type": "markdown",
            "metadata": {},
            "source": "This project aims to provide insight in the the factors that influence the occurance and the severity of road traffic accidents specifically in the Seattle area. For this data off road traffic accidents between 2004-2020 was used. This dataset was obtained from the Seattle Open Data portal here:http://data-seattlecitygis.opendata.arcgis.com/datasets/5b5c745e0f1f48e7a53acec63a0022ab_0\nA PDF with additional information is available as well, in this details of the attribute metadata can be obtained."
        },
        {
            "cell_type": "code",
            "execution_count": null,
            "metadata": {},
            "outputs": [],
            "source": "#Read data from the downloaded portal dataset and import to a dataframe\ndf = pd.read_csv(\"Collisions.csv\")\n\ndf_shape_orig = df.shape\nprint(\"Shape of the original data frame: \"+str(df.shape[0])+' x '+str(df.shape[1]))"
        },
        {
            "cell_type": "code",
            "execution_count": null,
            "metadata": {},
            "outputs": [],
            "source": ""
        },
        {
            "cell_type": "code",
            "execution_count": null,
            "metadata": {},
            "outputs": [],
            "source": ""
        },
        {
            "cell_type": "code",
            "execution_count": null,
            "metadata": {},
            "outputs": [],
            "source": ""
        }
    ],
    "metadata": {
        "kernelspec": {
            "display_name": "Python 3.6",
            "language": "python",
            "name": "python3"
        },
        "language_info": {
            "codemirror_mode": {
                "name": "ipython",
                "version": 3
            },
            "file_extension": ".py",
            "mimetype": "text/x-python",
            "name": "python",
            "nbconvert_exporter": "python",
            "pygments_lexer": "ipython3",
            "version": "3.6.9"
        }
    },
    "nbformat": 4,
    "nbformat_minor": 1
}